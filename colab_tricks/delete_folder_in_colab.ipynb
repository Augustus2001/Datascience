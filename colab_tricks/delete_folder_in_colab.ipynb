#delete folder while there are not empty folder.
import shutil
path="/content/images"
shutil.rmtree(path,ignore_errors=True)
