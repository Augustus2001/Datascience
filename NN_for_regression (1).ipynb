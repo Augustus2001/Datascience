{
  "nbformat": 4,
  "nbformat_minor": 0,
  "metadata": {
    "colab": {
      "name": "NN_for_regression.ipynb",
      "provenance": [],
      "collapsed_sections": []
    },
    "kernelspec": {
      "name": "python3",
      "display_name": "Python 3"
    },
    "language_info": {
      "name": "python"
    }
  },
  "cells": [
    {
      "cell_type": "code",
      "execution_count": 1,
      "metadata": {
        "id": "GV6nwioulAjw"
      },
      "outputs": [],
      "source": [
        "import tensorflow as tf"
      ]
    },
    {
      "cell_type": "code",
      "source": [
        "print(tf.__version__)"
      ],
      "metadata": {
        "colab": {
          "base_uri": "https://localhost:8080/"
        },
        "id": "4DQOieBZlQj9",
        "outputId": "d6dad60b-5f68-4376-fae4-febfa5186129"
      },
      "execution_count": 2,
      "outputs": [
        {
          "output_type": "stream",
          "name": "stdout",
          "text": [
            "2.8.2\n"
          ]
        }
      ]
    },
    {
      "cell_type": "code",
      "source": [
        "import numpy as np\n",
        "import matplotlib.pyplot as plt\n",
        "#create input\n",
        "x=np.array([-7,-4.0,-1,2,5,8,11,14])\n",
        "#create labels\n",
        "y=np.array([3.0,6.0,9,12,15,18,21,24])\n",
        "#visualize\n",
        "plt.scatter(x,y)"
      ],
      "metadata": {
        "colab": {
          "base_uri": "https://localhost:8080/",
          "height": 286
        },
        "id": "btEGVwtMlUev",
        "outputId": "84a3516e-8105-4793-8c23-0257ced2fe5e"
      },
      "execution_count": 3,
      "outputs": [
        {
          "output_type": "execute_result",
          "data": {
            "text/plain": [
              "<matplotlib.collections.PathCollection at 0x7f0e1e387210>"
            ]
          },
          "metadata": {},
          "execution_count": 3
        },
        {
          "output_type": "display_data",
          "data": {
            "text/plain": [
              "<Figure size 432x288 with 1 Axes>"
            ],
            "image/png": "[encoded data removed]"
          },
          "metadata": {
            "needs_background": "light"
          }
        }
      ]
    },
    {
      "cell_type": "code",
      "source": [
        "y==x+10"
      ],
      "metadata": {
        "colab": {
          "base_uri": "https://localhost:8080/"
        },
        "id": "YYdopzH4nfIB",
        "outputId": "b733808a-5135-4af8-fcaa-86b223ccbf62"
      },
      "execution_count": 4,
      "outputs": [
        {
          "output_type": "execute_result",
          "data": {
            "text/plain": [
              "array([ True,  True,  True,  True,  True,  True,  True,  True])"
            ]
          },
          "metadata": {},
          "execution_count": 4
        }
      ]
    },
    {
      "cell_type": "code",
      "source": [
        "x[0],y[0]"
      ],
      "metadata": {
        "colab": {
          "base_uri": "https://localhost:8080/"
        },
        "id": "6JkaC9Y5oIyH",
        "outputId": "122f7657-711c-4670-a07e-c510aecf4369"
      },
      "execution_count": 5,
      "outputs": [
        {
          "output_type": "execute_result",
          "data": {
            "text/plain": [
              "(-7.0, 3.0)"
            ]
          },
          "metadata": {},
          "execution_count": 5
        }
      ]
    },
    {
      "cell_type": "markdown",
      "source": [
        "#input and output housing price"
      ],
      "metadata": {
        "id": "62w3zusBnj0i"
      }
    },
    {
      "cell_type": "code",
      "source": [
        "house_info=tf.constant([\"bedroom\",\"bathroom\",\"garage\"])\n",
        "house_price=tf.constant([939700])\n",
        "house_info,house_info"
      ],
      "metadata": {
        "colab": {
          "base_uri": "https://localhost:8080/"
        },
        "id": "NK02Vnnrnh7e",
        "outputId": "4fef0a38-cd84-4bfd-fafa-95c47ed9ec98"
      },
      "execution_count": 6,
      "outputs": [
        {
          "output_type": "execute_result",
          "data": {
            "text/plain": [
              "(<tf.Tensor: shape=(3,), dtype=string, numpy=array([b'bedroom', b'bathroom', b'garage'], dtype=object)>,\n",
              " <tf.Tensor: shape=(3,), dtype=string, numpy=array([b'bedroom', b'bathroom', b'garage'], dtype=object)>)"
            ]
          },
          "metadata": {},
          "execution_count": 6
        }
      ]
    },
    {
      "cell_type": "code",
      "source": [
        "input_shape=x.shape\n",
        "output_shape=y.shape\n",
        "input_shape,output_shape"
      ],
      "metadata": {
        "colab": {
          "base_uri": "https://localhost:8080/"
        },
        "id": "Oe-Cwko3n36c",
        "outputId": "7b45557f-9f48-421e-9eb4-5054f6401502"
      },
      "execution_count": 7,
      "outputs": [
        {
          "output_type": "execute_result",
          "data": {
            "text/plain": [
              "((8,), (8,))"
            ]
          },
          "metadata": {},
          "execution_count": 7
        }
      ]
    },
    {
      "cell_type": "code",
      "source": [
        "#turn np.array to tf\n",
        "X=tf.constant(x)\n",
        "Y=tf.constant(y)\n",
        "X,Y"
      ],
      "metadata": {
        "colab": {
          "base_uri": "https://localhost:8080/"
        },
        "id": "1l86dtfaoU8r",
        "outputId": "7eb9ecd1-85a3-4d25-9ae7-9a493a6ca32f"
      },
      "execution_count": 8,
      "outputs": [
        {
          "output_type": "execute_result",
          "data": {
            "text/plain": [
              "(<tf.Tensor: shape=(8,), dtype=float64, numpy=array([-7., -4., -1.,  2.,  5.,  8., 11., 14.])>,\n",
              " <tf.Tensor: shape=(8,), dtype=float64, numpy=array([ 3.,  6.,  9., 12., 15., 18., 21., 24.])>)"
            ]
          },
          "metadata": {},
          "execution_count": 8
        }
      ]
    },
    {
      "cell_type": "code",
      "source": [
        "plt.scatter(X,Y)"
      ],
      "metadata": {
        "colab": {
          "base_uri": "https://localhost:8080/",
          "height": 286
        },
        "id": "vsTlP-2Woz7t",
        "outputId": "6c346808-04bf-419d-aaaf-42cbdb5921e5"
      },
      "execution_count": 9,
      "outputs": [
        {
          "output_type": "execute_result",
          "data": {
            "text/plain": [
              "<matplotlib.collections.PathCollection at 0x7f0e1e359d10>"
            ]
          },
          "metadata": {},
          "execution_count": 9
        },
        {
          "output_type": "display_data",
          "data": {
            "text/plain": [
              "<Figure size 432x288 with 1 Axes>"
            ],
            "image/png": "[encoded data removed]"
          },
          "metadata": {
            "needs_background": "light"
          }
        }
      ]
    },
    {
      "cell_type": "markdown",
      "source": [
        "#step modeling"
      ],
      "metadata": {
        "id": "HZRBKjiHo5u7"
      }
    },
    {
      "cell_type": "code",
      "source": [
        "\n",
        "#create model from tf.sequential\n",
        "model=tf.keras.Sequential([\n",
        "    tf.keras.layers.Dense(128,activation='relu'),\n",
        "    tf.keras.layers.Dense(128,activation='relu'),\n",
        "    tf.keras.layers.Dense(128,activation='relu'),\n",
        "    tf.keras.layers.Dense(1),\n",
        "  ])\n",
        "\n",
        "#Complie the model\n",
        "model.compile(optimizer=tf.keras.optimizers.Adam(lr=0.0001),\n",
        "              loss=tf.keras.losses.MeanAbsoluteError(),\n",
        "              metrics=tf.keras.metrics.MeanAbsoluteError(),)\n",
        "\n",
        "#fit the model\n",
        "model.fit(tf.expand_dims(X,axis=-1),Y,epochs=500)"
      ],
      "metadata": {
        "colab": {
          "base_uri": "https://localhost:8080/"
        },
        "id": "Gi5C6ccto4kz",
        "outputId": "ab5b784f-54a0-4c7d-f2ea-4ca7f322efab"
      },
      "execution_count": 10,
      "outputs": [
        {
          "output_type": "stream",
          "name": "stderr",
          "text": [
            "/usr/local/lib/python3.7/dist-packages/keras/optimizer_v2/adam.py:105: UserWarning: The `lr` argument is deprecated, use `learning_rate` instead.\n",
            "  super(Adam, self).__init__(name, **kwargs)\n"
          ]
        },
        {
          "output_type": "stream",
          "name": "stdout",
          "text": [
            "Epoch 1/500\n",
            "1/1 [==============================] - 2s 2s/step - loss: 13.6963 - mean_absolute_error: 13.6963\n",
            "Epoch 2/500\n",
            "1/1 [==============================] - 0s 28ms/step - loss: 13.6387 - mean_absolute_error: 13.6387\n",
            "Epoch 3/500\n",
            "1/1 [==============================] - 0s 16ms/step - loss: 13.5812 - mean_absolute_error: 13.5812\n",
            "Epoch 4/500\n",
            "1/1 [==============================] - 0s 14ms/step - loss: 13.5241 - mean_absolute_error: 13.5241\n",
            "Epoch 5/500\n",
            "1/1 [==============================] - 0s 13ms/step - loss: 13.4673 - mean_absolute_error: 13.4673\n",
            "Epoch 6/500\n",
            "1/1 [==============================] - 0s 26ms/step - loss: 13.4116 - mean_absolute_error: 13.4116\n",
            "Epoch 7/500\n",
            "1/1 [==============================] - 0s 18ms/step - loss: 13.3561 - mean_absolute_error: 13.3561\n",
            "Epoch 8/500\n",
            "1/1 [==============================] - 0s 18ms/step - loss: 13.3009 - mean_absolute_error: 13.3009\n",
            "Epoch 9/500\n",
            "1/1 [==============================] - 0s 13ms/step - loss: 13.2469 - mean_absolute_error: 13.2469\n",
            "Epoch 10/500\n",
            "1/1 [==============================] - 0s 14ms/step - loss: 13.1938 - mean_absolute_error: 13.1938\n",
            "Epoch 11/500\n",
            "1/1 [==============================] - 0s 15ms/step - loss: 13.1432 - mean_absolute_error: 13.1432\n",
            "Epoch 12/500\n",
            "1/1 [==============================] - 0s 16ms/step - loss: 13.0925 - mean_absolute_error: 13.0925\n",
            "Epoch 13/500\n",
            "1/1 [==============================] - 0s 13ms/step - loss: 13.0423 - mean_absolute_error: 13.0423\n",
            "Epoch 14/500\n",
            "1/1 [==============================] - 0s 12ms/step - loss: 12.9931 - mean_absolute_error: 12.9931\n",
            "Epoch 15/500\n",
            "1/1 [==============================] - 0s 13ms/step - loss: 12.9461 - mean_absolute_error: 12.9461\n",
            "Epoch 16/500\n",
            "1/1 [==============================] - 0s 13ms/step - loss: 12.8992 - mean_absolute_error: 12.8992\n",
            "Epoch 17/500\n",
            "1/1 [==============================] - 0s 16ms/step - loss: 12.8519 - mean_absolute_error: 12.8519\n",
            "Epoch 18/500\n",
            "1/1 [==============================] - 0s 11ms/step - loss: 12.8048 - mean_absolute_error: 12.8048\n",
            "Epoch 19/500\n",
            "1/1 [==============================] - 0s 13ms/step - loss: 12.7585 - mean_absolute_error: 12.7585\n",
            "Epoch 20/500\n",
            "1/1 [==============================] - 0s 12ms/step - loss: 12.7116 - mean_absolute_error: 12.7116\n",
            "Epoch 21/500\n",
            "1/1 [==============================] - 0s 15ms/step - loss: 12.6645 - mean_absolute_error: 12.6645\n",
            "Epoch 22/500\n",
            "1/1 [==============================] - 0s 15ms/step - loss: 12.6182 - mean_absolute_error: 12.6182\n",
            "Epoch 23/500\n",
            "1/1 [==============================] - 0s 71ms/step - loss: 12.5718 - mean_absolute_error: 12.5718\n",
            "Epoch 24/500\n",
            "1/1 [==============================] - 0s 42ms/step - loss: 12.5254 - mean_absolute_error: 12.5254\n",
            "Epoch 25/500\n",
            "1/1 [==============================] - 0s 27ms/step - loss: 12.4795 - mean_absolute_error: 12.4795\n",
            "Epoch 26/500\n",
            "1/1 [==============================] - 0s 33ms/step - loss: 12.4333 - mean_absolute_error: 12.4333\n",
            "Epoch 27/500\n",
            "1/1 [==============================] - 0s 10ms/step - loss: 12.3868 - mean_absolute_error: 12.3868\n",
            "Epoch 28/500\n",
            "1/1 [==============================] - 0s 9ms/step - loss: 12.3404 - mean_absolute_error: 12.3404\n",
            "Epoch 29/500\n",
            "1/1 [==============================] - 0s 10ms/step - loss: 12.2936 - mean_absolute_error: 12.2936\n",
            "Epoch 30/500\n",
            "1/1 [==============================] - 0s 11ms/step - loss: 12.2466 - mean_absolute_error: 12.2466\n",
            "Epoch 31/500\n",
            "1/1 [==============================] - 0s 15ms/step - loss: 12.1989 - mean_absolute_error: 12.1989\n",
            "Epoch 32/500\n",
            "1/1 [==============================] - 0s 28ms/step - loss: 12.1503 - mean_absolute_error: 12.1503\n",
            "Epoch 33/500\n",
            "1/1 [==============================] - 0s 16ms/step - loss: 12.1012 - mean_absolute_error: 12.1012\n",
            "Epoch 34/500\n",
            "1/1 [==============================] - 0s 22ms/step - loss: 12.0519 - mean_absolute_error: 12.0519\n",
            "Epoch 35/500\n",
            "1/1 [==============================] - 0s 18ms/step - loss: 12.0022 - mean_absolute_error: 12.0022\n",
            "Epoch 36/500\n",
            "1/1 [==============================] - 0s 18ms/step - loss: 11.9515 - mean_absolute_error: 11.9515\n",
            "Epoch 37/500\n",
            "1/1 [==============================] - 0s 28ms/step - loss: 11.9003 - mean_absolute_error: 11.9003\n",
            "Epoch 38/500\n",
            "1/1 [==============================] - 0s 15ms/step - loss: 11.8488 - mean_absolute_error: 11.8488\n",
            "Epoch 39/500\n",
            "1/1 [==============================] - 0s 19ms/step - loss: 11.7970 - mean_absolute_error: 11.7970\n",
            "Epoch 40/500\n",
            "1/1 [==============================] - 0s 20ms/step - loss: 11.7454 - mean_absolute_error: 11.7454\n",
            "Epoch 41/500\n",
            "1/1 [==============================] - 0s 18ms/step - loss: 11.6943 - mean_absolute_error: 11.6943\n",
            "Epoch 42/500\n",
            "1/1 [==============================] - 0s 14ms/step - loss: 11.6426 - mean_absolute_error: 11.6426\n",
            "Epoch 43/500\n",
            "1/1 [==============================] - 0s 20ms/step - loss: 11.5906 - mean_absolute_error: 11.5906\n",
            "Epoch 44/500\n",
            "1/1 [==============================] - 0s 19ms/step - loss: 11.5381 - mean_absolute_error: 11.5381\n",
            "Epoch 45/500\n",
            "1/1 [==============================] - 0s 20ms/step - loss: 11.4850 - mean_absolute_error: 11.4850\n",
            "Epoch 46/500\n",
            "1/1 [==============================] - 0s 11ms/step - loss: 11.4316 - mean_absolute_error: 11.4316\n",
            "Epoch 47/500\n",
            "1/1 [==============================] - 0s 11ms/step - loss: 11.3779 - mean_absolute_error: 11.3779\n",
            "Epoch 48/500\n",
            "1/1 [==============================] - 0s 10ms/step - loss: 11.3238 - mean_absolute_error: 11.3238\n",
            "Epoch 49/500\n",
            "1/1 [==============================] - 0s 22ms/step - loss: 11.2692 - mean_absolute_error: 11.2692\n",
            "Epoch 50/500\n",
            "1/1 [==============================] - 0s 24ms/step - loss: 11.2141 - mean_absolute_error: 11.2141\n",
            "Epoch 51/500\n",
            "1/1 [==============================] - 0s 15ms/step - loss: 11.1590 - mean_absolute_error: 11.1590\n",
            "Epoch 52/500\n",
            "1/1 [==============================] - 0s 11ms/step - loss: 11.1031 - mean_absolute_error: 11.1031\n",
            "Epoch 53/500\n",
            "1/1 [==============================] - 0s 10ms/step - loss: 11.0466 - mean_absolute_error: 11.0466\n",
            "Epoch 54/500\n",
            "1/1 [==============================] - 0s 18ms/step - loss: 10.9894 - mean_absolute_error: 10.9894\n",
            "Epoch 55/500\n",
            "1/1 [==============================] - 0s 25ms/step - loss: 10.9319 - mean_absolute_error: 10.9319\n",
            "Epoch 56/500\n",
            "1/1 [==============================] - 0s 20ms/step - loss: 10.8741 - mean_absolute_error: 10.8741\n",
            "Epoch 57/500\n",
            "1/1 [==============================] - 0s 21ms/step - loss: 10.8155 - mean_absolute_error: 10.8155\n",
            "Epoch 58/500\n",
            "1/1 [==============================] - 0s 22ms/step - loss: 10.7554 - mean_absolute_error: 10.7554\n",
            "Epoch 59/500\n",
            "1/1 [==============================] - 0s 17ms/step - loss: 10.6945 - mean_absolute_error: 10.6945\n",
            "Epoch 60/500\n",
            "1/1 [==============================] - 0s 21ms/step - loss: 10.6333 - mean_absolute_error: 10.6333\n",
            "Epoch 61/500\n",
            "1/1 [==============================] - 0s 22ms/step - loss: 10.5711 - mean_absolute_error: 10.5711\n",
            "Epoch 62/500\n",
            "1/1 [==============================] - 0s 20ms/step - loss: 10.5082 - mean_absolute_error: 10.5082\n",
            "Epoch 63/500\n",
            "1/1 [==============================] - 0s 44ms/step - loss: 10.4446 - mean_absolute_error: 10.4446\n",
            "Epoch 64/500\n",
            "1/1 [==============================] - 0s 37ms/step - loss: 10.3799 - mean_absolute_error: 10.3799\n",
            "Epoch 65/500\n",
            "1/1 [==============================] - 0s 18ms/step - loss: 10.3140 - mean_absolute_error: 10.3140\n",
            "Epoch 66/500\n",
            "1/1 [==============================] - 0s 33ms/step - loss: 10.2465 - mean_absolute_error: 10.2465\n",
            "Epoch 67/500\n",
            "1/1 [==============================] - 0s 9ms/step - loss: 10.1779 - mean_absolute_error: 10.1779\n",
            "Epoch 68/500\n",
            "1/1 [==============================] - 0s 12ms/step - loss: 10.1082 - mean_absolute_error: 10.1082\n",
            "Epoch 69/500\n",
            "1/1 [==============================] - 0s 11ms/step - loss: 10.0376 - mean_absolute_error: 10.0376\n",
            "Epoch 70/500\n",
            "1/1 [==============================] - 0s 13ms/step - loss: 9.9659 - mean_absolute_error: 9.9659\n",
            "Epoch 71/500\n",
            "1/1 [==============================] - 0s 12ms/step - loss: 9.8996 - mean_absolute_error: 9.8996\n",
            "Epoch 72/500\n",
            "1/1 [==============================] - 0s 16ms/step - loss: 9.8420 - mean_absolute_error: 9.8420\n",
            "Epoch 73/500\n",
            "1/1 [==============================] - 0s 17ms/step - loss: 9.7835 - mean_absolute_error: 9.7835\n",
            "Epoch 74/500\n",
            "1/1 [==============================] - 0s 15ms/step - loss: 9.7244 - mean_absolute_error: 9.7244\n",
            "Epoch 75/500\n",
            "1/1 [==============================] - 0s 14ms/step - loss: 9.6646 - mean_absolute_error: 9.6646\n",
            "Epoch 76/500\n",
            "1/1 [==============================] - 0s 13ms/step - loss: 9.6040 - mean_absolute_error: 9.6040\n",
            "Epoch 77/500\n",
            "1/1 [==============================] - 0s 13ms/step - loss: 9.5426 - mean_absolute_error: 9.5426\n",
            "Epoch 78/500\n",
            "1/1 [==============================] - 0s 17ms/step - loss: 9.4803 - mean_absolute_error: 9.4803\n",
            "Epoch 79/500\n",
            "1/1 [==============================] - 0s 12ms/step - loss: 9.4173 - mean_absolute_error: 9.4173\n",
            "Epoch 80/500\n",
            "1/1 [==============================] - 0s 37ms/step - loss: 9.3535 - mean_absolute_error: 9.3535\n",
            "Epoch 81/500\n",
            "1/1 [==============================] - 0s 28ms/step - loss: 9.2889 - mean_absolute_error: 9.2889\n",
            "Epoch 82/500\n",
            "1/1 [==============================] - 0s 20ms/step - loss: 9.2236 - mean_absolute_error: 9.2236\n",
            "Epoch 83/500\n",
            "1/1 [==============================] - 0s 23ms/step - loss: 9.1577 - mean_absolute_error: 9.1577\n",
            "Epoch 84/500\n",
            "1/1 [==============================] - 0s 42ms/step - loss: 9.0911 - mean_absolute_error: 9.0911\n",
            "Epoch 85/500\n",
            "1/1 [==============================] - 0s 17ms/step - loss: 9.0239 - mean_absolute_error: 9.0239\n",
            "Epoch 86/500\n",
            "1/1 [==============================] - 0s 18ms/step - loss: 8.9561 - mean_absolute_error: 8.9561\n",
            "Epoch 87/500\n",
            "1/1 [==============================] - 0s 18ms/step - loss: 8.8875 - mean_absolute_error: 8.8875\n",
            "Epoch 88/500\n",
            "1/1 [==============================] - 0s 20ms/step - loss: 8.8182 - mean_absolute_error: 8.8182\n",
            "Epoch 89/500\n",
            "1/1 [==============================] - 0s 18ms/step - loss: 8.7478 - mean_absolute_error: 8.7478\n",
            "Epoch 90/500\n",
            "1/1 [==============================] - 0s 17ms/step - loss: 8.6766 - mean_absolute_error: 8.6766\n",
            "Epoch 91/500\n",
            "1/1 [==============================] - 0s 15ms/step - loss: 8.6045 - mean_absolute_error: 8.6045\n",
            "Epoch 92/500\n",
            "1/1 [==============================] - 0s 25ms/step - loss: 8.5314 - mean_absolute_error: 8.5314\n",
            "Epoch 93/500\n",
            "1/1 [==============================] - 0s 26ms/step - loss: 8.4574 - mean_absolute_error: 8.4574\n",
            "Epoch 94/500\n",
            "1/1 [==============================] - 0s 13ms/step - loss: 8.3825 - mean_absolute_error: 8.3825\n",
            "Epoch 95/500\n",
            "1/1 [==============================] - 0s 12ms/step - loss: 8.3064 - mean_absolute_error: 8.3064\n",
            "Epoch 96/500\n",
            "1/1 [==============================] - 0s 14ms/step - loss: 8.2292 - mean_absolute_error: 8.2292\n",
            "Epoch 97/500\n",
            "1/1 [==============================] - 0s 26ms/step - loss: 8.1510 - mean_absolute_error: 8.1510\n",
            "Epoch 98/500\n",
            "1/1 [==============================] - 0s 13ms/step - loss: 8.0718 - mean_absolute_error: 8.0718\n",
            "Epoch 99/500\n",
            "1/1 [==============================] - 0s 14ms/step - loss: 7.9922 - mean_absolute_error: 7.9922\n",
            "Epoch 100/500\n",
            "1/1 [==============================] - 0s 16ms/step - loss: 7.9122 - mean_absolute_error: 7.9122\n",
            "Epoch 101/500\n",
            "1/1 [==============================] - 0s 9ms/step - loss: 7.8310 - mean_absolute_error: 7.8310\n",
            "Epoch 102/500\n",
            "1/1 [==============================] - 0s 12ms/step - loss: 7.7489 - mean_absolute_error: 7.7489\n",
            "Epoch 103/500\n",
            "1/1 [==============================] - 0s 12ms/step - loss: 7.6656 - mean_absolute_error: 7.6656\n",
            "Epoch 104/500\n",
            "1/1 [==============================] - 0s 13ms/step - loss: 7.5811 - mean_absolute_error: 7.5811\n",
            "Epoch 105/500\n",
            "1/1 [==============================] - 0s 14ms/step - loss: 7.4956 - mean_absolute_error: 7.4956\n",
            "Epoch 106/500\n",
            "1/1 [==============================] - 0s 16ms/step - loss: 7.4089 - mean_absolute_error: 7.4089\n",
            "Epoch 107/500\n",
            "1/1 [==============================] - 0s 14ms/step - loss: 7.3210 - mean_absolute_error: 7.3210\n",
            "Epoch 108/500\n",
            "1/1 [==============================] - 0s 22ms/step - loss: 7.2320 - mean_absolute_error: 7.2320\n",
            "Epoch 109/500\n",
            "1/1 [==============================] - 0s 33ms/step - loss: 7.1418 - mean_absolute_error: 7.1418\n",
            "Epoch 110/500\n",
            "1/1 [==============================] - 0s 32ms/step - loss: 7.0506 - mean_absolute_error: 7.0506\n",
            "Epoch 111/500\n",
            "1/1 [==============================] - 0s 13ms/step - loss: 6.9582 - mean_absolute_error: 6.9582\n",
            "Epoch 112/500\n",
            "1/1 [==============================] - 0s 27ms/step - loss: 6.8646 - mean_absolute_error: 6.8646\n",
            "Epoch 113/500\n",
            "1/1 [==============================] - 0s 39ms/step - loss: 6.7697 - mean_absolute_error: 6.7697\n",
            "Epoch 114/500\n",
            "1/1 [==============================] - 0s 26ms/step - loss: 6.6737 - mean_absolute_error: 6.6737\n",
            "Epoch 115/500\n",
            "1/1 [==============================] - 0s 40ms/step - loss: 6.5764 - mean_absolute_error: 6.5764\n",
            "Epoch 116/500\n",
            "1/1 [==============================] - 0s 26ms/step - loss: 6.4783 - mean_absolute_error: 6.4783\n",
            "Epoch 117/500\n",
            "1/1 [==============================] - 0s 24ms/step - loss: 6.3799 - mean_absolute_error: 6.3799\n",
            "Epoch 118/500\n",
            "1/1 [==============================] - 0s 19ms/step - loss: 6.2800 - mean_absolute_error: 6.2800\n",
            "Epoch 119/500\n",
            "1/1 [==============================] - 0s 18ms/step - loss: 6.1789 - mean_absolute_error: 6.1789\n",
            "Epoch 120/500\n",
            "1/1 [==============================] - 0s 17ms/step - loss: 6.0764 - mean_absolute_error: 6.0764\n",
            "Epoch 121/500\n",
            "1/1 [==============================] - 0s 18ms/step - loss: 5.9725 - mean_absolute_error: 5.9725\n",
            "Epoch 122/500\n",
            "1/1 [==============================] - 0s 21ms/step - loss: 5.8672 - mean_absolute_error: 5.8672\n",
            "Epoch 123/500\n",
            "1/1 [==============================] - 0s 37ms/step - loss: 5.7602 - mean_absolute_error: 5.7602\n",
            "Epoch 124/500\n",
            "1/1 [==============================] - 0s 22ms/step - loss: 5.6512 - mean_absolute_error: 5.6512\n",
            "Epoch 125/500\n",
            "1/1 [==============================] - 0s 20ms/step - loss: 5.5404 - mean_absolute_error: 5.5404\n",
            "Epoch 126/500\n",
            "1/1 [==============================] - 0s 26ms/step - loss: 5.4283 - mean_absolute_error: 5.4283\n",
            "Epoch 127/500\n",
            "1/1 [==============================] - 0s 23ms/step - loss: 5.3148 - mean_absolute_error: 5.3148\n",
            "Epoch 128/500\n",
            "1/1 [==============================] - 0s 19ms/step - loss: 5.2000 - mean_absolute_error: 5.2000\n",
            "Epoch 129/500\n",
            "1/1 [==============================] - 0s 18ms/step - loss: 5.0836 - mean_absolute_error: 5.0836\n",
            "Epoch 130/500\n",
            "1/1 [==============================] - 0s 23ms/step - loss: 4.9655 - mean_absolute_error: 4.9655\n",
            "Epoch 131/500\n",
            "1/1 [==============================] - 0s 36ms/step - loss: 4.8456 - mean_absolute_error: 4.8456\n",
            "Epoch 132/500\n",
            "1/1 [==============================] - 0s 17ms/step - loss: 4.7244 - mean_absolute_error: 4.7244\n",
            "Epoch 133/500\n",
            "1/1 [==============================] - 0s 19ms/step - loss: 4.6018 - mean_absolute_error: 4.6018\n",
            "Epoch 134/500\n",
            "1/1 [==============================] - 0s 33ms/step - loss: 4.4780 - mean_absolute_error: 4.4780\n",
            "Epoch 135/500\n",
            "1/1 [==============================] - 0s 23ms/step - loss: 4.3525 - mean_absolute_error: 4.3525\n",
            "Epoch 136/500\n",
            "1/1 [==============================] - 0s 24ms/step - loss: 4.2253 - mean_absolute_error: 4.2253\n",
            "Epoch 137/500\n",
            "1/1 [==============================] - 0s 21ms/step - loss: 4.1487 - mean_absolute_error: 4.1487\n",
            "Epoch 138/500\n",
            "1/1 [==============================] - 0s 35ms/step - loss: 4.1100 - mean_absolute_error: 4.1100\n",
            "Epoch 139/500\n",
            "1/1 [==============================] - 0s 20ms/step - loss: 4.0732 - mean_absolute_error: 4.0732\n",
            "Epoch 140/500\n",
            "1/1 [==============================] - 0s 27ms/step - loss: 4.0380 - mean_absolute_error: 4.0380\n",
            "Epoch 141/500\n",
            "1/1 [==============================] - 0s 29ms/step - loss: 4.0042 - mean_absolute_error: 4.0042\n",
            "Epoch 142/500\n",
            "1/1 [==============================] - 0s 21ms/step - loss: 3.9718 - mean_absolute_error: 3.9718\n",
            "Epoch 143/500\n",
            "1/1 [==============================] - 0s 24ms/step - loss: 3.9407 - mean_absolute_error: 3.9407\n",
            "Epoch 144/500\n",
            "1/1 [==============================] - 0s 26ms/step - loss: 3.9106 - mean_absolute_error: 3.9106\n",
            "Epoch 145/500\n",
            "1/1 [==============================] - 0s 14ms/step - loss: 3.8815 - mean_absolute_error: 3.8815\n",
            "Epoch 146/500\n",
            "1/1 [==============================] - 0s 12ms/step - loss: 3.8888 - mean_absolute_error: 3.8888\n",
            "Epoch 147/500\n",
            "1/1 [==============================] - 0s 10ms/step - loss: 3.9053 - mean_absolute_error: 3.9053\n",
            "Epoch 148/500\n",
            "1/1 [==============================] - 0s 10ms/step - loss: 3.9190 - mean_absolute_error: 3.9190\n",
            "Epoch 149/500\n",
            "1/1 [==============================] - 0s 10ms/step - loss: 3.9302 - mean_absolute_error: 3.9302\n",
            "Epoch 150/500\n",
            "1/1 [==============================] - 0s 11ms/step - loss: 3.9390 - mean_absolute_error: 3.9390\n",
            "Epoch 151/500\n",
            "1/1 [==============================] - 0s 12ms/step - loss: 3.9456 - mean_absolute_error: 3.9456\n",
            "Epoch 152/500\n",
            "1/1 [==============================] - 0s 8ms/step - loss: 3.9505 - mean_absolute_error: 3.9505\n",
            "Epoch 153/500\n",
            "1/1 [==============================] - 0s 15ms/step - loss: 3.9535 - mean_absolute_error: 3.9535\n",
            "Epoch 154/500\n",
            "1/1 [==============================] - 0s 10ms/step - loss: 3.9550 - mean_absolute_error: 3.9550\n",
            "Epoch 155/500\n",
            "1/1 [==============================] - 0s 10ms/step - loss: 3.9550 - mean_absolute_error: 3.9550\n",
            "Epoch 156/500\n",
            "1/1 [==============================] - 0s 9ms/step - loss: 3.9537 - mean_absolute_error: 3.9537\n",
            "Epoch 157/500\n",
            "1/1 [==============================] - 0s 10ms/step - loss: 3.9512 - mean_absolute_error: 3.9512\n",
            "Epoch 158/500\n",
            "1/1 [==============================] - 0s 12ms/step - loss: 3.9478 - mean_absolute_error: 3.9478\n",
            "Epoch 159/500\n",
            "1/1 [==============================] - 0s 10ms/step - loss: 3.9434 - mean_absolute_error: 3.9434\n",
            "Epoch 160/500\n",
            "1/1 [==============================] - 0s 16ms/step - loss: 3.9381 - mean_absolute_error: 3.9381\n",
            "Epoch 161/500\n",
            "1/1 [==============================] - 0s 19ms/step - loss: 3.9319 - mean_absolute_error: 3.9319\n",
            "Epoch 162/500\n",
            "1/1 [==============================] - 0s 19ms/step - loss: 3.9254 - mean_absolute_error: 3.9254\n",
            "Epoch 163/500\n",
            "1/1 [==============================] - 0s 27ms/step - loss: 3.9181 - mean_absolute_error: 3.9181\n",
            "Epoch 164/500\n",
            "1/1 [==============================] - 0s 11ms/step - loss: 3.9103 - mean_absolute_error: 3.9103\n",
            "Epoch 165/500\n",
            "1/1 [==============================] - 0s 10ms/step - loss: 3.9020 - mean_absolute_error: 3.9020\n",
            "Epoch 166/500\n",
            "1/1 [==============================] - 0s 23ms/step - loss: 3.8929 - mean_absolute_error: 3.8929\n",
            "Epoch 167/500\n",
            "1/1 [==============================] - 0s 28ms/step - loss: 3.8834 - mean_absolute_error: 3.8834\n",
            "Epoch 168/500\n",
            "1/1 [==============================] - 0s 48ms/step - loss: 3.8736 - mean_absolute_error: 3.8736\n",
            "Epoch 169/500\n",
            "1/1 [==============================] - 0s 20ms/step - loss: 3.8635 - mean_absolute_error: 3.8635\n",
            "Epoch 170/500\n",
            "1/1 [==============================] - 0s 16ms/step - loss: 3.8530 - mean_absolute_error: 3.8530\n",
            "Epoch 171/500\n",
            "1/1 [==============================] - 0s 12ms/step - loss: 3.8423 - mean_absolute_error: 3.8423\n",
            "Epoch 172/500\n",
            "1/1 [==============================] - 0s 23ms/step - loss: 3.8405 - mean_absolute_error: 3.8405\n",
            "Epoch 173/500\n",
            "1/1 [==============================] - 0s 15ms/step - loss: 3.8481 - mean_absolute_error: 3.8481\n",
            "Epoch 174/500\n",
            "1/1 [==============================] - 0s 14ms/step - loss: 3.8529 - mean_absolute_error: 3.8529\n",
            "Epoch 175/500\n",
            "1/1 [==============================] - 0s 10ms/step - loss: 3.8549 - mean_absolute_error: 3.8549\n",
            "Epoch 176/500\n",
            "1/1 [==============================] - 0s 14ms/step - loss: 3.8548 - mean_absolute_error: 3.8548\n",
            "Epoch 177/500\n",
            "1/1 [==============================] - 0s 15ms/step - loss: 3.8528 - mean_absolute_error: 3.8528\n",
            "Epoch 178/500\n",
            "1/1 [==============================] - 0s 19ms/step - loss: 3.8490 - mean_absolute_error: 3.8490\n",
            "Epoch 179/500\n",
            "1/1 [==============================] - 0s 12ms/step - loss: 3.8435 - mean_absolute_error: 3.8435\n",
            "Epoch 180/500\n",
            "1/1 [==============================] - 0s 15ms/step - loss: 3.8366 - mean_absolute_error: 3.8366\n",
            "Epoch 181/500\n",
            "1/1 [==============================] - 0s 13ms/step - loss: 3.8285 - mean_absolute_error: 3.8285\n",
            "Epoch 182/500\n",
            "1/1 [==============================] - 0s 10ms/step - loss: 3.8235 - mean_absolute_error: 3.8235\n",
            "Epoch 183/500\n",
            "1/1 [==============================] - 0s 13ms/step - loss: 3.8264 - mean_absolute_error: 3.8264\n",
            "Epoch 184/500\n",
            "1/1 [==============================] - 0s 10ms/step - loss: 3.8276 - mean_absolute_error: 3.8276\n",
            "Epoch 185/500\n",
            "1/1 [==============================] - 0s 10ms/step - loss: 3.8274 - mean_absolute_error: 3.8274\n",
            "Epoch 186/500\n",
            "1/1 [==============================] - 0s 10ms/step - loss: 3.8261 - mean_absolute_error: 3.8261\n",
            "Epoch 187/500\n",
            "1/1 [==============================] - 0s 23ms/step - loss: 3.8237 - mean_absolute_error: 3.8237\n",
            "Epoch 188/500\n",
            "1/1 [==============================] - 0s 15ms/step - loss: 3.8225 - mean_absolute_error: 3.8225\n",
            "Epoch 189/500\n",
            "1/1 [==============================] - 0s 17ms/step - loss: 3.8179 - mean_absolute_error: 3.8179\n",
            "Epoch 190/500\n",
            "1/1 [==============================] - 0s 12ms/step - loss: 3.8126 - mean_absolute_error: 3.8126\n",
            "Epoch 191/500\n",
            "1/1 [==============================] - 0s 17ms/step - loss: 3.8160 - mean_absolute_error: 3.8160\n",
            "Epoch 192/500\n",
            "1/1 [==============================] - 0s 17ms/step - loss: 3.8188 - mean_absolute_error: 3.8188\n",
            "Epoch 193/500\n",
            "1/1 [==============================] - 0s 18ms/step - loss: 3.8191 - mean_absolute_error: 3.8191\n",
            "Epoch 194/500\n",
            "1/1 [==============================] - 0s 65ms/step - loss: 3.8170 - mean_absolute_error: 3.8170\n",
            "Epoch 195/500\n",
            "1/1 [==============================] - 0s 13ms/step - loss: 3.8131 - mean_absolute_error: 3.8131\n",
            "Epoch 196/500\n",
            "1/1 [==============================] - 0s 21ms/step - loss: 3.8087 - mean_absolute_error: 3.8087\n",
            "Epoch 197/500\n",
            "1/1 [==============================] - 0s 10ms/step - loss: 3.8099 - mean_absolute_error: 3.8099\n",
            "Epoch 198/500\n",
            "1/1 [==============================] - 0s 15ms/step - loss: 3.8096 - mean_absolute_error: 3.8096\n",
            "Epoch 199/500\n",
            "1/1 [==============================] - 0s 38ms/step - loss: 3.8079 - mean_absolute_error: 3.8079\n",
            "Epoch 200/500\n",
            "1/1 [==============================] - 0s 30ms/step - loss: 3.8049 - mean_absolute_error: 3.8049\n",
            "Epoch 201/500\n",
            "1/1 [==============================] - 0s 18ms/step - loss: 3.8041 - mean_absolute_error: 3.8041\n",
            "Epoch 202/500\n",
            "1/1 [==============================] - 0s 15ms/step - loss: 3.8038 - mean_absolute_error: 3.8038\n",
            "Epoch 203/500\n",
            "1/1 [==============================] - 0s 41ms/step - loss: 3.8034 - mean_absolute_error: 3.8034\n",
            "Epoch 204/500\n",
            "1/1 [==============================] - 0s 45ms/step - loss: 3.7997 - mean_absolute_error: 3.7997\n",
            "Epoch 205/500\n",
            "1/1 [==============================] - 0s 41ms/step - loss: 3.8008 - mean_absolute_error: 3.8008\n",
            "Epoch 206/500\n",
            "1/1 [==============================] - 0s 62ms/step - loss: 3.8004 - mean_absolute_error: 3.8004\n",
            "Epoch 207/500\n",
            "1/1 [==============================] - 0s 68ms/step - loss: 3.7986 - mean_absolute_error: 3.7986\n",
            "Epoch 208/500\n",
            "1/1 [==============================] - 0s 59ms/step - loss: 3.8002 - mean_absolute_error: 3.8002\n",
            "Epoch 209/500\n",
            "1/1 [==============================] - 0s 30ms/step - loss: 3.8004 - mean_absolute_error: 3.8004\n",
            "Epoch 210/500\n",
            "1/1 [==============================] - 0s 21ms/step - loss: 3.7983 - mean_absolute_error: 3.7983\n",
            "Epoch 211/500\n",
            "1/1 [==============================] - 0s 15ms/step - loss: 3.7961 - mean_absolute_error: 3.7961\n",
            "Epoch 212/500\n",
            "1/1 [==============================] - 0s 14ms/step - loss: 3.7961 - mean_absolute_error: 3.7961\n",
            "Epoch 213/500\n",
            "1/1 [==============================] - 0s 21ms/step - loss: 3.7946 - mean_absolute_error: 3.7946\n",
            "Epoch 214/500\n",
            "1/1 [==============================] - 0s 33ms/step - loss: 3.7921 - mean_absolute_error: 3.7921\n",
            "Epoch 215/500\n",
            "1/1 [==============================] - 0s 26ms/step - loss: 3.7909 - mean_absolute_error: 3.7909\n",
            "Epoch 216/500\n",
            "1/1 [==============================] - 0s 20ms/step - loss: 3.7906 - mean_absolute_error: 3.7906\n",
            "Epoch 217/500\n",
            "1/1 [==============================] - 0s 21ms/step - loss: 3.7883 - mean_absolute_error: 3.7883\n",
            "Epoch 218/500\n",
            "1/1 [==============================] - 0s 16ms/step - loss: 3.7886 - mean_absolute_error: 3.7886\n",
            "Epoch 219/500\n",
            "1/1 [==============================] - 0s 16ms/step - loss: 3.7902 - mean_absolute_error: 3.7902\n",
            "Epoch 220/500\n",
            "1/1 [==============================] - 0s 31ms/step - loss: 3.7879 - mean_absolute_error: 3.7879\n",
            "Epoch 221/500\n",
            "1/1 [==============================] - 0s 35ms/step - loss: 3.7850 - mean_absolute_error: 3.7850\n",
            "Epoch 222/500\n",
            "1/1 [==============================] - 0s 27ms/step - loss: 3.7858 - mean_absolute_error: 3.7858\n",
            "Epoch 223/500\n",
            "1/1 [==============================] - 0s 12ms/step - loss: 3.7862 - mean_absolute_error: 3.7862\n",
            "Epoch 224/500\n",
            "1/1 [==============================] - 0s 33ms/step - loss: 3.7842 - mean_absolute_error: 3.7842\n",
            "Epoch 225/500\n",
            "1/1 [==============================] - 0s 15ms/step - loss: 3.7831 - mean_absolute_error: 3.7831\n",
            "Epoch 226/500\n",
            "1/1 [==============================] - 0s 12ms/step - loss: 3.7832 - mean_absolute_error: 3.7832\n",
            "Epoch 227/500\n",
            "1/1 [==============================] - 0s 15ms/step - loss: 3.7819 - mean_absolute_error: 3.7819\n",
            "Epoch 228/500\n",
            "1/1 [==============================] - 0s 30ms/step - loss: 3.7793 - mean_absolute_error: 3.7793\n",
            "Epoch 229/500\n",
            "1/1 [==============================] - 0s 30ms/step - loss: 3.7804 - mean_absolute_error: 3.7804\n",
            "Epoch 230/500\n",
            "1/1 [==============================] - 0s 22ms/step - loss: 3.7798 - mean_absolute_error: 3.7798\n",
            "Epoch 231/500\n",
            "1/1 [==============================] - 0s 22ms/step - loss: 3.7772 - mean_absolute_error: 3.7772\n",
            "Epoch 232/500\n",
            "1/1 [==============================] - 0s 27ms/step - loss: 3.7739 - mean_absolute_error: 3.7739\n",
            "Epoch 233/500\n",
            "1/1 [==============================] - 0s 37ms/step - loss: 3.7735 - mean_absolute_error: 3.7735\n",
            "Epoch 234/500\n",
            "1/1 [==============================] - 0s 17ms/step - loss: 3.7716 - mean_absolute_error: 3.7716\n",
            "Epoch 235/500\n",
            "1/1 [==============================] - 0s 73ms/step - loss: 3.7737 - mean_absolute_error: 3.7737\n",
            "Epoch 236/500\n",
            "1/1 [==============================] - 0s 17ms/step - loss: 3.7705 - mean_absolute_error: 3.7705\n",
            "Epoch 237/500\n",
            "1/1 [==============================] - 0s 24ms/step - loss: 3.7702 - mean_absolute_error: 3.7702\n",
            "Epoch 238/500\n",
            "1/1 [==============================] - 0s 16ms/step - loss: 3.7707 - mean_absolute_error: 3.7707\n",
            "Epoch 239/500\n",
            "1/1 [==============================] - 0s 11ms/step - loss: 3.7696 - mean_absolute_error: 3.7696\n",
            "Epoch 240/500\n",
            "1/1 [==============================] - 0s 13ms/step - loss: 3.7672 - mean_absolute_error: 3.7672\n",
            "Epoch 241/500\n",
            "1/1 [==============================] - 0s 23ms/step - loss: 3.7693 - mean_absolute_error: 3.7693\n",
            "Epoch 242/500\n",
            "1/1 [==============================] - 0s 20ms/step - loss: 3.7697 - mean_absolute_error: 3.7697\n",
            "Epoch 243/500\n",
            "1/1 [==============================] - 0s 31ms/step - loss: 3.7677 - mean_absolute_error: 3.7677\n",
            "Epoch 244/500\n",
            "1/1 [==============================] - 0s 29ms/step - loss: 3.7634 - mean_absolute_error: 3.7634\n",
            "Epoch 245/500\n",
            "1/1 [==============================] - 0s 46ms/step - loss: 3.7656 - mean_absolute_error: 3.7656\n",
            "Epoch 246/500\n",
            "1/1 [==============================] - 0s 28ms/step - loss: 3.7665 - mean_absolute_error: 3.7665\n",
            "Epoch 247/500\n",
            "1/1 [==============================] - 0s 24ms/step - loss: 3.7657 - mean_absolute_error: 3.7657\n",
            "Epoch 248/500\n",
            "1/1 [==============================] - 0s 13ms/step - loss: 3.7635 - mean_absolute_error: 3.7635\n",
            "Epoch 249/500\n",
            "1/1 [==============================] - 0s 17ms/step - loss: 3.7601 - mean_absolute_error: 3.7601\n",
            "Epoch 250/500\n",
            "1/1 [==============================] - 0s 23ms/step - loss: 3.7555 - mean_absolute_error: 3.7555\n",
            "Epoch 251/500\n",
            "1/1 [==============================] - 0s 23ms/step - loss: 3.7613 - mean_absolute_error: 3.7613\n",
            "Epoch 252/500\n",
            "1/1 [==============================] - 0s 23ms/step - loss: 3.7614 - mean_absolute_error: 3.7614\n",
            "Epoch 253/500\n",
            "1/1 [==============================] - 0s 15ms/step - loss: 3.7587 - mean_absolute_error: 3.7587\n",
            "Epoch 254/500\n",
            "1/1 [==============================] - 0s 32ms/step - loss: 3.7559 - mean_absolute_error: 3.7559\n",
            "Epoch 255/500\n",
            "1/1 [==============================] - 0s 40ms/step - loss: 3.7527 - mean_absolute_error: 3.7527\n",
            "Epoch 256/500\n",
            "1/1 [==============================] - 0s 11ms/step - loss: 3.7539 - mean_absolute_error: 3.7539\n",
            "Epoch 257/500\n",
            "1/1 [==============================] - 0s 10ms/step - loss: 3.7536 - mean_absolute_error: 3.7536\n",
            "Epoch 258/500\n",
            "1/1 [==============================] - 0s 10ms/step - loss: 3.7517 - mean_absolute_error: 3.7517\n",
            "Epoch 259/500\n",
            "1/1 [==============================] - 0s 24ms/step - loss: 3.7489 - mean_absolute_error: 3.7489\n",
            "Epoch 260/500\n",
            "1/1 [==============================] - 0s 32ms/step - loss: 3.7481 - mean_absolute_error: 3.7481\n",
            "Epoch 261/500\n",
            "1/1 [==============================] - 0s 10ms/step - loss: 3.7472 - mean_absolute_error: 3.7472\n",
            "Epoch 262/500\n",
            "1/1 [==============================] - 0s 17ms/step - loss: 3.7455 - mean_absolute_error: 3.7455\n",
            "Epoch 263/500\n",
            "1/1 [==============================] - 0s 9ms/step - loss: 3.7432 - mean_absolute_error: 3.7432\n",
            "Epoch 264/500\n",
            "1/1 [==============================] - 0s 10ms/step - loss: 3.7445 - mean_absolute_error: 3.7445\n",
            "Epoch 265/500\n",
            "1/1 [==============================] - 0s 11ms/step - loss: 3.7434 - mean_absolute_error: 3.7434\n",
            "Epoch 266/500\n",
            "1/1 [==============================] - 0s 19ms/step - loss: 3.7399 - mean_absolute_error: 3.7399\n",
            "Epoch 267/500\n",
            "1/1 [==============================] - 0s 49ms/step - loss: 3.7426 - mean_absolute_error: 3.7426\n",
            "Epoch 268/500\n",
            "1/1 [==============================] - 0s 29ms/step - loss: 3.7419 - mean_absolute_error: 3.7419\n",
            "Epoch 269/500\n",
            "1/1 [==============================] - 0s 26ms/step - loss: 3.7405 - mean_absolute_error: 3.7405\n",
            "Epoch 270/500\n",
            "1/1 [==============================] - 0s 37ms/step - loss: 3.7391 - mean_absolute_error: 3.7391\n",
            "Epoch 271/500\n",
            "1/1 [==============================] - 0s 22ms/step - loss: 3.7363 - mean_absolute_error: 3.7363\n",
            "Epoch 272/500\n",
            "1/1 [==============================] - 0s 31ms/step - loss: 3.7380 - mean_absolute_error: 3.7380\n",
            "Epoch 273/500\n",
            "1/1 [==============================] - 0s 24ms/step - loss: 3.7390 - mean_absolute_error: 3.7390\n",
            "Epoch 274/500\n",
            "1/1 [==============================] - 0s 20ms/step - loss: 3.7373 - mean_absolute_error: 3.7373\n",
            "Epoch 275/500\n",
            "1/1 [==============================] - 0s 25ms/step - loss: 3.7333 - mean_absolute_error: 3.7333\n",
            "Epoch 276/500\n",
            "1/1 [==============================] - 0s 15ms/step - loss: 3.7339 - mean_absolute_error: 3.7339\n",
            "Epoch 277/500\n",
            "1/1 [==============================] - 0s 24ms/step - loss: 3.7348 - mean_absolute_error: 3.7348\n",
            "Epoch 278/500\n",
            "1/1 [==============================] - 0s 12ms/step - loss: 3.7341 - mean_absolute_error: 3.7341\n",
            "Epoch 279/500\n",
            "1/1 [==============================] - 0s 21ms/step - loss: 3.7318 - mean_absolute_error: 3.7318\n",
            "Epoch 280/500\n",
            "1/1 [==============================] - 0s 23ms/step - loss: 3.7281 - mean_absolute_error: 3.7281\n",
            "Epoch 281/500\n",
            "1/1 [==============================] - 0s 24ms/step - loss: 3.7249 - mean_absolute_error: 3.7249\n",
            "Epoch 282/500\n",
            "1/1 [==============================] - 0s 26ms/step - loss: 3.7268 - mean_absolute_error: 3.7268\n",
            "Epoch 283/500\n",
            "1/1 [==============================] - 0s 54ms/step - loss: 3.7222 - mean_absolute_error: 3.7222\n",
            "Epoch 284/500\n",
            "1/1 [==============================] - 0s 44ms/step - loss: 3.7232 - mean_absolute_error: 3.7232\n",
            "Epoch 285/500\n",
            "1/1 [==============================] - 0s 21ms/step - loss: 3.7245 - mean_absolute_error: 3.7245\n",
            "Epoch 286/500\n",
            "1/1 [==============================] - 0s 16ms/step - loss: 3.7240 - mean_absolute_error: 3.7240\n",
            "Epoch 287/500\n",
            "1/1 [==============================] - 0s 15ms/step - loss: 3.7218 - mean_absolute_error: 3.7218\n",
            "Epoch 288/500\n",
            "1/1 [==============================] - 0s 17ms/step - loss: 3.7189 - mean_absolute_error: 3.7189\n",
            "Epoch 289/500\n",
            "1/1 [==============================] - 0s 14ms/step - loss: 3.7189 - mean_absolute_error: 3.7189\n",
            "Epoch 290/500\n",
            "1/1 [==============================] - 0s 16ms/step - loss: 3.7170 - mean_absolute_error: 3.7170\n",
            "Epoch 291/500\n",
            "1/1 [==============================] - 0s 15ms/step - loss: 3.7156 - mean_absolute_error: 3.7156\n",
            "Epoch 292/500\n",
            "1/1 [==============================] - 0s 37ms/step - loss: 3.7164 - mean_absolute_error: 3.7164\n",
            "Epoch 293/500\n",
            "1/1 [==============================] - 0s 17ms/step - loss: 3.7145 - mean_absolute_error: 3.7145\n",
            "Epoch 294/500\n",
            "1/1 [==============================] - 0s 25ms/step - loss: 3.7128 - mean_absolute_error: 3.7128\n",
            "Epoch 295/500\n",
            "1/1 [==============================] - 0s 16ms/step - loss: 3.7119 - mean_absolute_error: 3.7119\n",
            "Epoch 296/500\n",
            "1/1 [==============================] - 0s 21ms/step - loss: 3.7095 - mean_absolute_error: 3.7095\n",
            "Epoch 297/500\n",
            "1/1 [==============================] - 0s 15ms/step - loss: 3.7092 - mean_absolute_error: 3.7092\n",
            "Epoch 298/500\n",
            "1/1 [==============================] - 0s 33ms/step - loss: 3.7095 - mean_absolute_error: 3.7095\n",
            "Epoch 299/500\n",
            "1/1 [==============================] - 0s 21ms/step - loss: 3.7053 - mean_absolute_error: 3.7053\n",
            "Epoch 300/500\n",
            "1/1 [==============================] - 0s 30ms/step - loss: 3.7056 - mean_absolute_error: 3.7056\n",
            "Epoch 301/500\n",
            "1/1 [==============================] - 0s 39ms/step - loss: 3.7043 - mean_absolute_error: 3.7043\n",
            "Epoch 302/500\n",
            "1/1 [==============================] - 0s 44ms/step - loss: 3.7064 - mean_absolute_error: 3.7064\n",
            "Epoch 303/500\n",
            "1/1 [==============================] - 0s 52ms/step - loss: 3.7059 - mean_absolute_error: 3.7059\n",
            "Epoch 304/500\n",
            "1/1 [==============================] - 0s 25ms/step - loss: 3.7027 - mean_absolute_error: 3.7027\n",
            "Epoch 305/500\n",
            "1/1 [==============================] - 0s 34ms/step - loss: 3.7044 - mean_absolute_error: 3.7044\n",
            "Epoch 306/500\n",
            "1/1 [==============================] - 0s 56ms/step - loss: 3.7051 - mean_absolute_error: 3.7051\n",
            "Epoch 307/500\n",
            "1/1 [==============================] - 0s 30ms/step - loss: 3.7041 - mean_absolute_error: 3.7041\n",
            "Epoch 308/500\n",
            "1/1 [==============================] - 0s 37ms/step - loss: 3.7015 - mean_absolute_error: 3.7015\n",
            "Epoch 309/500\n",
            "1/1 [==============================] - 0s 25ms/step - loss: 3.6975 - mean_absolute_error: 3.6975\n",
            "Epoch 310/500\n",
            "1/1 [==============================] - 0s 22ms/step - loss: 3.6989 - mean_absolute_error: 3.6989\n",
            "Epoch 311/500\n",
            "1/1 [==============================] - 0s 19ms/step - loss: 3.6995 - mean_absolute_error: 3.6995\n",
            "Epoch 312/500\n",
            "1/1 [==============================] - 0s 39ms/step - loss: 3.6972 - mean_absolute_error: 3.6972\n",
            "Epoch 313/500\n",
            "1/1 [==============================] - 0s 23ms/step - loss: 3.6924 - mean_absolute_error: 3.6924\n",
            "Epoch 314/500\n",
            "1/1 [==============================] - 0s 24ms/step - loss: 3.6949 - mean_absolute_error: 3.6949\n",
            "Epoch 315/500\n",
            "1/1 [==============================] - 0s 12ms/step - loss: 3.6946 - mean_absolute_error: 3.6946\n",
            "Epoch 316/500\n",
            "1/1 [==============================] - 0s 26ms/step - loss: 3.6940 - mean_absolute_error: 3.6940\n",
            "Epoch 317/500\n",
            "1/1 [==============================] - 0s 27ms/step - loss: 3.6931 - mean_absolute_error: 3.6931\n",
            "Epoch 318/500\n",
            "1/1 [==============================] - 0s 190ms/step - loss: 3.6906 - mean_absolute_error: 3.6906\n",
            "Epoch 319/500\n",
            "1/1 [==============================] - 0s 25ms/step - loss: 3.6866 - mean_absolute_error: 3.6866\n",
            "Epoch 320/500\n",
            "1/1 [==============================] - 0s 46ms/step - loss: 3.6904 - mean_absolute_error: 3.6904\n",
            "Epoch 321/500\n",
            "1/1 [==============================] - 0s 30ms/step - loss: 3.6920 - mean_absolute_error: 3.6920\n",
            "Epoch 322/500\n",
            "1/1 [==============================] - 0s 12ms/step - loss: 3.6907 - mean_absolute_error: 3.6907\n",
            "Epoch 323/500\n",
            "1/1 [==============================] - 0s 13ms/step - loss: 3.6868 - mean_absolute_error: 3.6868\n",
            "Epoch 324/500\n",
            "1/1 [==============================] - 0s 33ms/step - loss: 3.6809 - mean_absolute_error: 3.6809\n",
            "Epoch 325/500\n",
            "1/1 [==============================] - 0s 18ms/step - loss: 3.6815 - mean_absolute_error: 3.6815\n",
            "Epoch 326/500\n",
            "1/1 [==============================] - 0s 15ms/step - loss: 3.6804 - mean_absolute_error: 3.6804\n",
            "Epoch 327/500\n",
            "1/1 [==============================] - 0s 18ms/step - loss: 3.6777 - mean_absolute_error: 3.6777\n",
            "Epoch 328/500\n",
            "1/1 [==============================] - 0s 20ms/step - loss: 3.6765 - mean_absolute_error: 3.6765\n",
            "Epoch 329/500\n",
            "1/1 [==============================] - 0s 20ms/step - loss: 3.6764 - mean_absolute_error: 3.6764\n",
            "Epoch 330/500\n",
            "1/1 [==============================] - 0s 16ms/step - loss: 3.6727 - mean_absolute_error: 3.6727\n",
            "Epoch 331/500\n",
            "1/1 [==============================] - 0s 14ms/step - loss: 3.6720 - mean_absolute_error: 3.6720\n",
            "Epoch 332/500\n",
            "1/1 [==============================] - 0s 31ms/step - loss: 3.6710 - mean_absolute_error: 3.6710\n",
            "Epoch 333/500\n",
            "1/1 [==============================] - 0s 22ms/step - loss: 3.6693 - mean_absolute_error: 3.6693\n",
            "Epoch 334/500\n",
            "1/1 [==============================] - 0s 31ms/step - loss: 3.6696 - mean_absolute_error: 3.6696\n",
            "Epoch 335/500\n",
            "1/1 [==============================] - 0s 22ms/step - loss: 3.6682 - mean_absolute_error: 3.6682\n",
            "Epoch 336/500\n",
            "1/1 [==============================] - 0s 19ms/step - loss: 3.6674 - mean_absolute_error: 3.6674\n",
            "Epoch 337/500\n",
            "1/1 [==============================] - 0s 17ms/step - loss: 3.6660 - mean_absolute_error: 3.6660\n",
            "Epoch 338/500\n",
            "1/1 [==============================] - 0s 30ms/step - loss: 3.6647 - mean_absolute_error: 3.6647\n",
            "Epoch 339/500\n",
            "1/1 [==============================] - 0s 15ms/step - loss: 3.6642 - mean_absolute_error: 3.6642\n",
            "Epoch 340/500\n",
            "1/1 [==============================] - 0s 16ms/step - loss: 3.6625 - mean_absolute_error: 3.6625\n",
            "Epoch 341/500\n",
            "1/1 [==============================] - 0s 19ms/step - loss: 3.6608 - mean_absolute_error: 3.6608\n",
            "Epoch 342/500\n",
            "1/1 [==============================] - 0s 18ms/step - loss: 3.6618 - mean_absolute_error: 3.6618\n",
            "Epoch 343/500\n",
            "1/1 [==============================] - 0s 16ms/step - loss: 3.6600 - mean_absolute_error: 3.6600\n",
            "Epoch 344/500\n",
            "1/1 [==============================] - 0s 17ms/step - loss: 3.6597 - mean_absolute_error: 3.6597\n",
            "Epoch 345/500\n",
            "1/1 [==============================] - 0s 21ms/step - loss: 3.6572 - mean_absolute_error: 3.6572\n",
            "Epoch 346/500\n",
            "1/1 [==============================] - 0s 22ms/step - loss: 3.6562 - mean_absolute_error: 3.6562\n",
            "Epoch 347/500\n",
            "1/1 [==============================] - 0s 25ms/step - loss: 3.6560 - mean_absolute_error: 3.6560\n",
            "Epoch 348/500\n",
            "1/1 [==============================] - 0s 24ms/step - loss: 3.6549 - mean_absolute_error: 3.6549\n",
            "Epoch 349/500\n",
            "1/1 [==============================] - 0s 21ms/step - loss: 3.6546 - mean_absolute_error: 3.6546\n",
            "Epoch 350/500\n",
            "1/1 [==============================] - 0s 18ms/step - loss: 3.6543 - mean_absolute_error: 3.6543\n",
            "Epoch 351/500\n",
            "1/1 [==============================] - 0s 25ms/step - loss: 3.6524 - mean_absolute_error: 3.6524\n",
            "Epoch 352/500\n",
            "1/1 [==============================] - 0s 21ms/step - loss: 3.6522 - mean_absolute_error: 3.6522\n",
            "Epoch 353/500\n",
            "1/1 [==============================] - 0s 40ms/step - loss: 3.6513 - mean_absolute_error: 3.6513\n",
            "Epoch 354/500\n",
            "1/1 [==============================] - 0s 27ms/step - loss: 3.6482 - mean_absolute_error: 3.6482\n",
            "Epoch 355/500\n",
            "1/1 [==============================] - 0s 25ms/step - loss: 3.6470 - mean_absolute_error: 3.6470\n",
            "Epoch 356/500\n",
            "1/1 [==============================] - 0s 19ms/step - loss: 3.6463 - mean_absolute_error: 3.6463\n",
            "Epoch 357/500\n",
            "1/1 [==============================] - 0s 14ms/step - loss: 3.6438 - mean_absolute_error: 3.6438\n",
            "Epoch 358/500\n",
            "1/1 [==============================] - 0s 13ms/step - loss: 3.6447 - mean_absolute_error: 3.6447\n",
            "Epoch 359/500\n",
            "1/1 [==============================] - 0s 9ms/step - loss: 3.6440 - mean_absolute_error: 3.6440\n",
            "Epoch 360/500\n",
            "1/1 [==============================] - 0s 10ms/step - loss: 3.6417 - mean_absolute_error: 3.6417\n",
            "Epoch 361/500\n",
            "1/1 [==============================] - 0s 10ms/step - loss: 3.6379 - mean_absolute_error: 3.6379\n",
            "Epoch 362/500\n",
            "1/1 [==============================] - 0s 10ms/step - loss: 3.6434 - mean_absolute_error: 3.6434\n",
            "Epoch 363/500\n",
            "1/1 [==============================] - 0s 16ms/step - loss: 3.6421 - mean_absolute_error: 3.6421\n",
            "Epoch 364/500\n",
            "1/1 [==============================] - 0s 14ms/step - loss: 3.6358 - mean_absolute_error: 3.6358\n",
            "Epoch 365/500\n",
            "1/1 [==============================] - 0s 13ms/step - loss: 3.6351 - mean_absolute_error: 3.6351\n",
            "Epoch 366/500\n",
            "1/1 [==============================] - 0s 29ms/step - loss: 3.6359 - mean_absolute_error: 3.6359\n",
            "Epoch 367/500\n",
            "1/1 [==============================] - 0s 36ms/step - loss: 3.6348 - mean_absolute_error: 3.6348\n",
            "Epoch 368/500\n",
            "1/1 [==============================] - 0s 34ms/step - loss: 3.6321 - mean_absolute_error: 3.6321\n",
            "Epoch 369/500\n",
            "1/1 [==============================] - 0s 34ms/step - loss: 3.6300 - mean_absolute_error: 3.6300\n",
            "Epoch 370/500\n",
            "1/1 [==============================] - 0s 19ms/step - loss: 3.6293 - mean_absolute_error: 3.6293\n",
            "Epoch 371/500\n",
            "1/1 [==============================] - 0s 16ms/step - loss: 3.6261 - mean_absolute_error: 3.6261\n",
            "Epoch 372/500\n",
            "1/1 [==============================] - 0s 20ms/step - loss: 3.6243 - mean_absolute_error: 3.6243\n",
            "Epoch 373/500\n",
            "1/1 [==============================] - 0s 10ms/step - loss: 3.6245 - mean_absolute_error: 3.6245\n",
            "Epoch 374/500\n",
            "1/1 [==============================] - 0s 11ms/step - loss: 3.6214 - mean_absolute_error: 3.6214\n",
            "Epoch 375/500\n",
            "1/1 [==============================] - 0s 10ms/step - loss: 3.6204 - mean_absolute_error: 3.6204\n",
            "Epoch 376/500\n",
            "1/1 [==============================] - 0s 9ms/step - loss: 3.6199 - mean_absolute_error: 3.6199\n",
            "Epoch 377/500\n",
            "1/1 [==============================] - 0s 10ms/step - loss: 3.6201 - mean_absolute_error: 3.6201\n",
            "Epoch 378/500\n",
            "1/1 [==============================] - 0s 11ms/step - loss: 3.6154 - mean_absolute_error: 3.6154\n",
            "Epoch 379/500\n",
            "1/1 [==============================] - 0s 11ms/step - loss: 3.6153 - mean_absolute_error: 3.6153\n",
            "Epoch 380/500\n",
            "1/1 [==============================] - 0s 12ms/step - loss: 3.6155 - mean_absolute_error: 3.6155\n",
            "Epoch 381/500\n",
            "1/1 [==============================] - 0s 13ms/step - loss: 3.6126 - mean_absolute_error: 3.6126\n",
            "Epoch 382/500\n",
            "1/1 [==============================] - 0s 25ms/step - loss: 3.6137 - mean_absolute_error: 3.6137\n",
            "Epoch 383/500\n",
            "1/1 [==============================] - 0s 25ms/step - loss: 3.6144 - mean_absolute_error: 3.6144\n",
            "Epoch 384/500\n",
            "1/1 [==============================] - 0s 23ms/step - loss: 3.6131 - mean_absolute_error: 3.6131\n",
            "Epoch 385/500\n",
            "1/1 [==============================] - 0s 17ms/step - loss: 3.6102 - mean_absolute_error: 3.6102\n",
            "Epoch 386/500\n",
            "1/1 [==============================] - 0s 15ms/step - loss: 3.6061 - mean_absolute_error: 3.6061\n",
            "Epoch 387/500\n",
            "1/1 [==============================] - 0s 16ms/step - loss: 3.6054 - mean_absolute_error: 3.6054\n",
            "Epoch 388/500\n",
            "1/1 [==============================] - 0s 17ms/step - loss: 3.6035 - mean_absolute_error: 3.6035\n",
            "Epoch 389/500\n",
            "1/1 [==============================] - 0s 18ms/step - loss: 3.6017 - mean_absolute_error: 3.6017\n",
            "Epoch 390/500\n",
            "1/1 [==============================] - 0s 21ms/step - loss: 3.6007 - mean_absolute_error: 3.6007\n",
            "Epoch 391/500\n",
            "1/1 [==============================] - 0s 37ms/step - loss: 3.5980 - mean_absolute_error: 3.5980\n",
            "Epoch 392/500\n",
            "1/1 [==============================] - 0s 14ms/step - loss: 3.5976 - mean_absolute_error: 3.5976\n",
            "Epoch 393/500\n",
            "1/1 [==============================] - 0s 15ms/step - loss: 3.5969 - mean_absolute_error: 3.5969\n",
            "Epoch 394/500\n",
            "1/1 [==============================] - 0s 22ms/step - loss: 3.5944 - mean_absolute_error: 3.5944\n",
            "Epoch 395/500\n",
            "1/1 [==============================] - 0s 21ms/step - loss: 3.5912 - mean_absolute_error: 3.5912\n",
            "Epoch 396/500\n",
            "1/1 [==============================] - 0s 23ms/step - loss: 3.5935 - mean_absolute_error: 3.5935\n",
            "Epoch 397/500\n",
            "1/1 [==============================] - 0s 44ms/step - loss: 3.5934 - mean_absolute_error: 3.5934\n",
            "Epoch 398/500\n",
            "1/1 [==============================] - 0s 39ms/step - loss: 3.5910 - mean_absolute_error: 3.5910\n",
            "Epoch 399/500\n",
            "1/1 [==============================] - 0s 22ms/step - loss: 3.5871 - mean_absolute_error: 3.5871\n",
            "Epoch 400/500\n",
            "1/1 [==============================] - 0s 14ms/step - loss: 3.5880 - mean_absolute_error: 3.5880\n",
            "Epoch 401/500\n",
            "1/1 [==============================] - 0s 18ms/step - loss: 3.5870 - mean_absolute_error: 3.5870\n",
            "Epoch 402/500\n",
            "1/1 [==============================] - 0s 14ms/step - loss: 3.5843 - mean_absolute_error: 3.5843\n",
            "Epoch 403/500\n",
            "1/1 [==============================] - 0s 12ms/step - loss: 3.5847 - mean_absolute_error: 3.5847\n",
            "Epoch 404/500\n",
            "1/1 [==============================] - 0s 21ms/step - loss: 3.5841 - mean_absolute_error: 3.5841\n",
            "Epoch 405/500\n",
            "1/1 [==============================] - 0s 27ms/step - loss: 3.5803 - mean_absolute_error: 3.5803\n",
            "Epoch 406/500\n",
            "1/1 [==============================] - 0s 61ms/step - loss: 3.5802 - mean_absolute_error: 3.5802\n",
            "Epoch 407/500\n",
            "1/1 [==============================] - 0s 29ms/step - loss: 3.5801 - mean_absolute_error: 3.5801\n",
            "Epoch 408/500\n",
            "1/1 [==============================] - 0s 32ms/step - loss: 3.5797 - mean_absolute_error: 3.5797\n",
            "Epoch 409/500\n",
            "1/1 [==============================] - 0s 24ms/step - loss: 3.5760 - mean_absolute_error: 3.5760\n",
            "Epoch 410/500\n",
            "1/1 [==============================] - 0s 25ms/step - loss: 3.5722 - mean_absolute_error: 3.5722\n",
            "Epoch 411/500\n",
            "1/1 [==============================] - 0s 63ms/step - loss: 3.5760 - mean_absolute_error: 3.5760\n",
            "Epoch 412/500\n",
            "1/1 [==============================] - 0s 22ms/step - loss: 3.5767 - mean_absolute_error: 3.5767\n",
            "Epoch 413/500\n",
            "1/1 [==============================] - 0s 14ms/step - loss: 3.5744 - mean_absolute_error: 3.5744\n",
            "Epoch 414/500\n",
            "1/1 [==============================] - 0s 15ms/step - loss: 3.5693 - mean_absolute_error: 3.5693\n",
            "Epoch 415/500\n",
            "1/1 [==============================] - 0s 27ms/step - loss: 3.5703 - mean_absolute_error: 3.5703\n",
            "Epoch 416/500\n",
            "1/1 [==============================] - 0s 32ms/step - loss: 3.5722 - mean_absolute_error: 3.5722\n",
            "Epoch 417/500\n",
            "1/1 [==============================] - 0s 18ms/step - loss: 3.5722 - mean_absolute_error: 3.5722\n",
            "Epoch 418/500\n",
            "1/1 [==============================] - 0s 21ms/step - loss: 3.5703 - mean_absolute_error: 3.5703\n",
            "Epoch 419/500\n",
            "1/1 [==============================] - 0s 23ms/step - loss: 3.5667 - mean_absolute_error: 3.5667\n",
            "Epoch 420/500\n",
            "1/1 [==============================] - 0s 25ms/step - loss: 3.5618 - mean_absolute_error: 3.5618\n",
            "Epoch 421/500\n",
            "1/1 [==============================] - 0s 23ms/step - loss: 3.5634 - mean_absolute_error: 3.5634\n",
            "Epoch 422/500\n",
            "1/1 [==============================] - 0s 19ms/step - loss: 3.5645 - mean_absolute_error: 3.5645\n",
            "Epoch 423/500\n",
            "1/1 [==============================] - 0s 15ms/step - loss: 3.5634 - mean_absolute_error: 3.5634\n",
            "Epoch 424/500\n",
            "1/1 [==============================] - 0s 58ms/step - loss: 3.5577 - mean_absolute_error: 3.5577\n",
            "Epoch 425/500\n",
            "1/1 [==============================] - 0s 34ms/step - loss: 3.5554 - mean_absolute_error: 3.5554\n",
            "Epoch 426/500\n",
            "1/1 [==============================] - 0s 21ms/step - loss: 3.5567 - mean_absolute_error: 3.5567\n",
            "Epoch 427/500\n",
            "1/1 [==============================] - 0s 40ms/step - loss: 3.5561 - mean_absolute_error: 3.5561\n",
            "Epoch 428/500\n",
            "1/1 [==============================] - 0s 59ms/step - loss: 3.5537 - mean_absolute_error: 3.5537\n",
            "Epoch 429/500\n",
            "1/1 [==============================] - 0s 38ms/step - loss: 3.5497 - mean_absolute_error: 3.5497\n",
            "Epoch 430/500\n",
            "1/1 [==============================] - 0s 26ms/step - loss: 3.5505 - mean_absolute_error: 3.5505\n",
            "Epoch 431/500\n",
            "1/1 [==============================] - 0s 27ms/step - loss: 3.5482 - mean_absolute_error: 3.5482\n",
            "Epoch 432/500\n",
            "1/1 [==============================] - 0s 30ms/step - loss: 3.5453 - mean_absolute_error: 3.5453\n",
            "Epoch 433/500\n",
            "1/1 [==============================] - 0s 30ms/step - loss: 3.5449 - mean_absolute_error: 3.5449\n",
            "Epoch 434/500\n",
            "1/1 [==============================] - 0s 22ms/step - loss: 3.5450 - mean_absolute_error: 3.5450\n",
            "Epoch 435/500\n",
            "1/1 [==============================] - 0s 29ms/step - loss: 3.5432 - mean_absolute_error: 3.5432\n",
            "Epoch 436/500\n",
            "1/1 [==============================] - 0s 53ms/step - loss: 3.5397 - mean_absolute_error: 3.5397\n",
            "Epoch 437/500\n",
            "1/1 [==============================] - 0s 42ms/step - loss: 3.5378 - mean_absolute_error: 3.5378\n",
            "Epoch 438/500\n",
            "1/1 [==============================] - 0s 29ms/step - loss: 3.5370 - mean_absolute_error: 3.5370\n",
            "Epoch 439/500\n",
            "1/1 [==============================] - 0s 17ms/step - loss: 3.5327 - mean_absolute_error: 3.5327\n",
            "Epoch 440/500\n",
            "1/1 [==============================] - 0s 32ms/step - loss: 3.5317 - mean_absolute_error: 3.5317\n",
            "Epoch 441/500\n",
            "1/1 [==============================] - 0s 12ms/step - loss: 3.5306 - mean_absolute_error: 3.5306\n",
            "Epoch 442/500\n",
            "1/1 [==============================] - 0s 32ms/step - loss: 3.5289 - mean_absolute_error: 3.5289\n",
            "Epoch 443/500\n",
            "1/1 [==============================] - 0s 22ms/step - loss: 3.5268 - mean_absolute_error: 3.5268\n",
            "Epoch 444/500\n",
            "1/1 [==============================] - 0s 16ms/step - loss: 3.5267 - mean_absolute_error: 3.5267\n",
            "Epoch 445/500\n",
            "1/1 [==============================] - 0s 14ms/step - loss: 3.5248 - mean_absolute_error: 3.5248\n",
            "Epoch 446/500\n",
            "1/1 [==============================] - 0s 24ms/step - loss: 3.5245 - mean_absolute_error: 3.5245\n",
            "Epoch 447/500\n",
            "1/1 [==============================] - 0s 11ms/step - loss: 3.5214 - mean_absolute_error: 3.5214\n",
            "Epoch 448/500\n",
            "1/1 [==============================] - 0s 11ms/step - loss: 3.5195 - mean_absolute_error: 3.5195\n",
            "Epoch 449/500\n",
            "1/1 [==============================] - 0s 10ms/step - loss: 3.5210 - mean_absolute_error: 3.5210\n",
            "Epoch 450/500\n",
            "1/1 [==============================] - 0s 11ms/step - loss: 3.5194 - mean_absolute_error: 3.5194\n",
            "Epoch 451/500\n",
            "1/1 [==============================] - 0s 15ms/step - loss: 3.5159 - mean_absolute_error: 3.5159\n",
            "Epoch 452/500\n",
            "1/1 [==============================] - 0s 20ms/step - loss: 3.5151 - mean_absolute_error: 3.5151\n",
            "Epoch 453/500\n",
            "1/1 [==============================] - 0s 15ms/step - loss: 3.5133 - mean_absolute_error: 3.5133\n",
            "Epoch 454/500\n",
            "1/1 [==============================] - 0s 39ms/step - loss: 3.5147 - mean_absolute_error: 3.5147\n",
            "Epoch 455/500\n",
            "1/1 [==============================] - 0s 20ms/step - loss: 3.5134 - mean_absolute_error: 3.5134\n",
            "Epoch 456/500\n",
            "1/1 [==============================] - 0s 15ms/step - loss: 3.5101 - mean_absolute_error: 3.5101\n",
            "Epoch 457/500\n",
            "1/1 [==============================] - 0s 28ms/step - loss: 3.5092 - mean_absolute_error: 3.5092\n",
            "Epoch 458/500\n",
            "1/1 [==============================] - 0s 66ms/step - loss: 3.5067 - mean_absolute_error: 3.5067\n",
            "Epoch 459/500\n",
            "1/1 [==============================] - 0s 24ms/step - loss: 3.5060 - mean_absolute_error: 3.5060\n",
            "Epoch 460/500\n",
            "1/1 [==============================] - 0s 20ms/step - loss: 3.5036 - mean_absolute_error: 3.5036\n",
            "Epoch 461/500\n",
            "1/1 [==============================] - 0s 126ms/step - loss: 3.5044 - mean_absolute_error: 3.5044\n",
            "Epoch 462/500\n",
            "1/1 [==============================] - 0s 67ms/step - loss: 3.5014 - mean_absolute_error: 3.5014\n",
            "Epoch 463/500\n",
            "1/1 [==============================] - 0s 16ms/step - loss: 3.5010 - mean_absolute_error: 3.5010\n",
            "Epoch 464/500\n",
            "1/1 [==============================] - 0s 16ms/step - loss: 3.5006 - mean_absolute_error: 3.5006\n",
            "Epoch 465/500\n",
            "1/1 [==============================] - 0s 26ms/step - loss: 3.4984 - mean_absolute_error: 3.4984\n",
            "Epoch 466/500\n",
            "1/1 [==============================] - 0s 12ms/step - loss: 3.4949 - mean_absolute_error: 3.4949\n",
            "Epoch 467/500\n",
            "1/1 [==============================] - 0s 22ms/step - loss: 3.4929 - mean_absolute_error: 3.4929\n",
            "Epoch 468/500\n",
            "1/1 [==============================] - 0s 16ms/step - loss: 3.4946 - mean_absolute_error: 3.4946\n",
            "Epoch 469/500\n",
            "1/1 [==============================] - 0s 16ms/step - loss: 3.4934 - mean_absolute_error: 3.4934\n",
            "Epoch 470/500\n",
            "1/1 [==============================] - 0s 10ms/step - loss: 3.4914 - mean_absolute_error: 3.4914\n",
            "Epoch 471/500\n",
            "1/1 [==============================] - 0s 15ms/step - loss: 3.4878 - mean_absolute_error: 3.4878\n",
            "Epoch 472/500\n",
            "1/1 [==============================] - 0s 20ms/step - loss: 3.4864 - mean_absolute_error: 3.4864\n",
            "Epoch 473/500\n",
            "1/1 [==============================] - 0s 14ms/step - loss: 3.4868 - mean_absolute_error: 3.4868\n",
            "Epoch 474/500\n",
            "1/1 [==============================] - 0s 11ms/step - loss: 3.4838 - mean_absolute_error: 3.4838\n",
            "Epoch 475/500\n",
            "1/1 [==============================] - 0s 10ms/step - loss: 3.4837 - mean_absolute_error: 3.4837\n",
            "Epoch 476/500\n",
            "1/1 [==============================] - 0s 17ms/step - loss: 3.4840 - mean_absolute_error: 3.4840\n",
            "Epoch 477/500\n",
            "1/1 [==============================] - 0s 16ms/step - loss: 3.4816 - mean_absolute_error: 3.4816\n",
            "Epoch 478/500\n",
            "1/1 [==============================] - 0s 20ms/step - loss: 3.4786 - mean_absolute_error: 3.4786\n",
            "Epoch 479/500\n",
            "1/1 [==============================] - 0s 22ms/step - loss: 3.4786 - mean_absolute_error: 3.4786\n",
            "Epoch 480/500\n",
            "1/1 [==============================] - 0s 18ms/step - loss: 3.4782 - mean_absolute_error: 3.4782\n",
            "Epoch 481/500\n",
            "1/1 [==============================] - 0s 15ms/step - loss: 3.4743 - mean_absolute_error: 3.4743\n",
            "Epoch 482/500\n",
            "1/1 [==============================] - 0s 16ms/step - loss: 3.4737 - mean_absolute_error: 3.4737\n",
            "Epoch 483/500\n",
            "1/1 [==============================] - 0s 13ms/step - loss: 3.4737 - mean_absolute_error: 3.4737\n",
            "Epoch 484/500\n",
            "1/1 [==============================] - 0s 15ms/step - loss: 3.4729 - mean_absolute_error: 3.4729\n",
            "Epoch 485/500\n",
            "1/1 [==============================] - 0s 15ms/step - loss: 3.4693 - mean_absolute_error: 3.4693\n",
            "Epoch 486/500\n",
            "1/1 [==============================] - 0s 14ms/step - loss: 3.4652 - mean_absolute_error: 3.4652\n",
            "Epoch 487/500\n",
            "1/1 [==============================] - 0s 9ms/step - loss: 3.4695 - mean_absolute_error: 3.4695\n",
            "Epoch 488/500\n",
            "1/1 [==============================] - 0s 23ms/step - loss: 3.4701 - mean_absolute_error: 3.4701\n",
            "Epoch 489/500\n",
            "1/1 [==============================] - 0s 9ms/step - loss: 3.4672 - mean_absolute_error: 3.4672\n",
            "Epoch 490/500\n",
            "1/1 [==============================] - 0s 13ms/step - loss: 3.4610 - mean_absolute_error: 3.4610\n",
            "Epoch 491/500\n",
            "1/1 [==============================] - 0s 14ms/step - loss: 3.4603 - mean_absolute_error: 3.4603\n",
            "Epoch 492/500\n",
            "1/1 [==============================] - 0s 27ms/step - loss: 3.4635 - mean_absolute_error: 3.4635\n",
            "Epoch 493/500\n",
            "1/1 [==============================] - 0s 17ms/step - loss: 3.4615 - mean_absolute_error: 3.4615\n",
            "Epoch 494/500\n",
            "1/1 [==============================] - 0s 14ms/step - loss: 3.4598 - mean_absolute_error: 3.4598\n",
            "Epoch 495/500\n",
            "1/1 [==============================] - 0s 25ms/step - loss: 3.4563 - mean_absolute_error: 3.4563\n",
            "Epoch 496/500\n",
            "1/1 [==============================] - 0s 28ms/step - loss: 3.4513 - mean_absolute_error: 3.4513\n",
            "Epoch 497/500\n",
            "1/1 [==============================] - 0s 17ms/step - loss: 3.4520 - mean_absolute_error: 3.4520\n",
            "Epoch 498/500\n",
            "1/1 [==============================] - 0s 33ms/step - loss: 3.4538 - mean_absolute_error: 3.4538\n",
            "Epoch 499/500\n",
            "1/1 [==============================] - 0s 14ms/step - loss: 3.4509 - mean_absolute_error: 3.4509\n",
            "Epoch 500/500\n",
            "1/1 [==============================] - 0s 23ms/step - loss: 3.4455 - mean_absolute_error: 3.4455\n"
          ]
        },
        {
          "output_type": "execute_result",
          "data": {
            "text/plain": [
              "<keras.callbacks.History at 0x7f0e1a064850>"
            ]
          },
          "metadata": {},
          "execution_count": 10
        }
      ]
    },
    {
      "cell_type": "code",
      "source": [
        "model.summary()"
      ],
      "metadata": {
        "colab": {
          "base_uri": "https://localhost:8080/"
        },
        "id": "rzKLADL_ySJH",
        "outputId": "d3dbf68b-67e7-47c4-a8e7-4b7617482225"
      },
      "execution_count": 11,
      "outputs": [
        {
          "output_type": "stream",
          "name": "stdout",
          "text": [
            "Model: \"sequential\"\n",
            "_________________________________________________________________\n",
            " Layer (type)                Output Shape              Param #   \n",
            "=================================================================\n",
            " dense (Dense)               (None, 128)               256       \n",
            "                                                                 \n",
            " dense_1 (Dense)             (None, 128)               16512     \n",
            "                                                                 \n",
            " dense_2 (Dense)             (None, 128)               16512     \n",
            "                                                                 \n",
            " dense_3 (Dense)             (None, 1)                 129       \n",
            "                                                                 \n",
            "=================================================================\n",
            "Total params: 33,409\n",
            "Trainable params: 33,409\n",
            "Non-trainable params: 0\n",
            "_________________________________________________________________\n"
          ]
        }
      ]
    },
    {
      "cell_type": "code",
      "source": [
        "#check out x,y\n",
        "X,Y"
      ],
      "metadata": {
        "colab": {
          "base_uri": "https://localhost:8080/"
        },
        "id": "VX1emcm2sT-X",
        "outputId": "505a1451-532c-4a62-851e-fbd665473701"
      },
      "execution_count": 12,
      "outputs": [
        {
          "output_type": "execute_result",
          "data": {
            "text/plain": [
              "(<tf.Tensor: shape=(8,), dtype=float64, numpy=array([-7., -4., -1.,  2.,  5.,  8., 11., 14.])>,\n",
              " <tf.Tensor: shape=(8,), dtype=float64, numpy=array([ 3.,  6.,  9., 12., 15., 18., 21., 24.])>)"
            ]
          },
          "metadata": {},
          "execution_count": 12
        }
      ]
    },
    {
      "cell_type": "code",
      "source": [
        "#try a make prediction\n",
        "model.predict([17.0])"
      ],
      "metadata": {
        "colab": {
          "base_uri": "https://localhost:8080/"
        },
        "id": "iVihwYj6v6No",
        "outputId": "6c1c0833-c215-409e-e6c5-c081a2276517"
      },
      "execution_count": 13,
      "outputs": [
        {
          "output_type": "execute_result",
          "data": {
            "text/plain": [
              "array([[31.745813]], dtype=float32)"
            ]
          },
          "metadata": {},
          "execution_count": 13
        }
      ]
    },
    {
      "cell_type": "code",
      "source": [
        "#improve our model\n",
        "#1.---create model----add more layers or change activation of each layers\n",
        "#2.----compling----- change optimization,learning rate\n",
        "#3.-----fitting----more data or increase the epochs"
      ],
      "metadata": {
        "id": "iX3kZbXvwxHw"
      },
      "execution_count": 14,
      "outputs": []
    },
    {
      "cell_type": "code",
      "source": [
        "#extra improve\n",
        "model2=tf.keras.Sequential([\n",
        "    tf.keras.layers.Dense(100,activation=None),\n",
        "    tf.keras.layers.Dense(1)\n",
        "])\n",
        "model2.compile(optimizer=tf.keras.optimizers.Adam(lr=0.01),\n",
        "               loss=tf.keras.losses.MeanAbsoluteError(),\n",
        "               metrics=tf.keras.metrics.MeanAbsoluteError())\n",
        "model2.fit(tf.expand_dims(X,axis=-1),Y,epochs=50)"
      ],
      "metadata": {
        "colab": {
          "base_uri": "https://localhost:8080/"
        },
        "id": "0EOiVMxCzgjx",
        "outputId": "e1048079-3934-46b7-bd2e-f6308bd8c830"
      },
      "execution_count": 15,
      "outputs": [
        {
          "output_type": "stream",
          "name": "stdout",
          "text": [
            "Epoch 1/50\n",
            "1/1 [==============================] - 1s 841ms/step - loss: 13.5327 - mean_absolute_error: 13.5327\n",
            "Epoch 2/50\n",
            "1/1 [==============================] - 0s 37ms/step - loss: 12.5569 - mean_absolute_error: 12.5569\n",
            "Epoch 3/50\n",
            "1/1 [==============================] - 0s 13ms/step - loss: 11.5767 - mean_absolute_error: 11.5767\n",
            "Epoch 4/50\n",
            "1/1 [==============================] - 0s 22ms/step - loss: 10.5871 - mean_absolute_error: 10.5871\n",
            "Epoch 5/50\n",
            "1/1 [==============================] - 0s 8ms/step - loss: 9.5818 - mean_absolute_error: 9.5818\n",
            "Epoch 6/50\n",
            "1/1 [==============================] - 0s 13ms/step - loss: 8.5531 - mean_absolute_error: 8.5531\n",
            "Epoch 7/50\n",
            "1/1 [==============================] - 0s 10ms/step - loss: 7.4935 - mean_absolute_error: 7.4935\n",
            "Epoch 8/50\n",
            "1/1 [==============================] - 0s 38ms/step - loss: 6.7556 - mean_absolute_error: 6.7556\n",
            "Epoch 9/50\n",
            "1/1 [==============================] - 0s 28ms/step - loss: 7.1415 - mean_absolute_error: 7.1415\n",
            "Epoch 10/50\n",
            "1/1 [==============================] - 0s 12ms/step - loss: 7.6397 - mean_absolute_error: 7.6397\n",
            "Epoch 11/50\n",
            "1/1 [==============================] - 0s 27ms/step - loss: 7.8639 - mean_absolute_error: 7.8639\n",
            "Epoch 12/50\n",
            "1/1 [==============================] - 0s 26ms/step - loss: 7.7468 - mean_absolute_error: 7.7468\n",
            "Epoch 13/50\n",
            "1/1 [==============================] - 0s 22ms/step - loss: 7.3921 - mean_absolute_error: 7.3921\n",
            "Epoch 14/50\n",
            "1/1 [==============================] - 0s 21ms/step - loss: 6.9014 - mean_absolute_error: 6.9014\n",
            "Epoch 15/50\n",
            "1/1 [==============================] - 0s 21ms/step - loss: 6.5409 - mean_absolute_error: 6.5409\n",
            "Epoch 16/50\n",
            "1/1 [==============================] - 0s 40ms/step - loss: 6.1613 - mean_absolute_error: 6.1613\n",
            "Epoch 17/50\n",
            "1/1 [==============================] - 0s 27ms/step - loss: 5.9974 - mean_absolute_error: 5.9974\n",
            "Epoch 18/50\n",
            "1/1 [==============================] - 0s 17ms/step - loss: 6.0529 - mean_absolute_error: 6.0529\n",
            "Epoch 19/50\n",
            "1/1 [==============================] - 0s 18ms/step - loss: 6.1822 - mean_absolute_error: 6.1822\n",
            "Epoch 20/50\n",
            "1/1 [==============================] - 0s 18ms/step - loss: 6.1618 - mean_absolute_error: 6.1618\n",
            "Epoch 21/50\n",
            "1/1 [==============================] - 0s 20ms/step - loss: 6.0130 - mean_absolute_error: 6.0130\n",
            "Epoch 22/50\n",
            "1/1 [==============================] - 0s 19ms/step - loss: 5.7500 - mean_absolute_error: 5.7500\n",
            "Epoch 23/50\n",
            "1/1 [==============================] - 0s 27ms/step - loss: 5.3916 - mean_absolute_error: 5.3916\n",
            "Epoch 24/50\n",
            "1/1 [==============================] - 0s 19ms/step - loss: 5.2467 - mean_absolute_error: 5.2467\n",
            "Epoch 25/50\n",
            "1/1 [==============================] - 0s 15ms/step - loss: 5.0958 - mean_absolute_error: 5.0958\n",
            "Epoch 26/50\n",
            "1/1 [==============================] - 0s 15ms/step - loss: 5.1110 - mean_absolute_error: 5.1110\n",
            "Epoch 27/50\n",
            "1/1 [==============================] - 0s 12ms/step - loss: 5.0717 - mean_absolute_error: 5.0717\n",
            "Epoch 28/50\n",
            "1/1 [==============================] - 0s 13ms/step - loss: 4.9732 - mean_absolute_error: 4.9732\n",
            "Epoch 29/50\n",
            "1/1 [==============================] - 0s 36ms/step - loss: 4.8199 - mean_absolute_error: 4.8199\n",
            "Epoch 30/50\n",
            "1/1 [==============================] - 0s 23ms/step - loss: 4.6161 - mean_absolute_error: 4.6161\n",
            "Epoch 31/50\n",
            "1/1 [==============================] - 0s 20ms/step - loss: 4.3658 - mean_absolute_error: 4.3658\n",
            "Epoch 32/50\n",
            "1/1 [==============================] - 0s 18ms/step - loss: 4.0933 - mean_absolute_error: 4.0933\n",
            "Epoch 33/50\n",
            "1/1 [==============================] - 0s 14ms/step - loss: 3.9474 - mean_absolute_error: 3.9474\n",
            "Epoch 34/50\n",
            "1/1 [==============================] - 0s 15ms/step - loss: 3.7872 - mean_absolute_error: 3.7872\n",
            "Epoch 35/50\n",
            "1/1 [==============================] - 0s 29ms/step - loss: 3.7291 - mean_absolute_error: 3.7291\n",
            "Epoch 36/50\n",
            "1/1 [==============================] - 0s 24ms/step - loss: 3.5018 - mean_absolute_error: 3.5018\n",
            "Epoch 37/50\n",
            "1/1 [==============================] - 0s 22ms/step - loss: 3.1718 - mean_absolute_error: 3.1718\n",
            "Epoch 38/50\n",
            "1/1 [==============================] - 0s 12ms/step - loss: 2.9227 - mean_absolute_error: 2.9227\n",
            "Epoch 39/50\n",
            "1/1 [==============================] - 0s 18ms/step - loss: 2.7843 - mean_absolute_error: 2.7843\n",
            "Epoch 40/50\n",
            "1/1 [==============================] - 0s 16ms/step - loss: 2.5948 - mean_absolute_error: 2.5948\n",
            "Epoch 41/50\n",
            "1/1 [==============================] - 0s 31ms/step - loss: 2.3270 - mean_absolute_error: 2.3270\n",
            "Epoch 42/50\n",
            "1/1 [==============================] - 0s 17ms/step - loss: 1.9831 - mean_absolute_error: 1.9831\n",
            "Epoch 43/50\n",
            "1/1 [==============================] - 0s 24ms/step - loss: 1.6094 - mean_absolute_error: 1.6094\n",
            "Epoch 44/50\n",
            "1/1 [==============================] - 0s 38ms/step - loss: 1.4235 - mean_absolute_error: 1.4235\n",
            "Epoch 45/50\n",
            "1/1 [==============================] - 0s 14ms/step - loss: 1.0887 - mean_absolute_error: 1.0887\n",
            "Epoch 46/50\n",
            "1/1 [==============================] - 0s 22ms/step - loss: 0.6663 - mean_absolute_error: 0.6663\n",
            "Epoch 47/50\n",
            "1/1 [==============================] - 0s 14ms/step - loss: 0.4345 - mean_absolute_error: 0.4345\n",
            "Epoch 48/50\n",
            "1/1 [==============================] - 0s 13ms/step - loss: 0.1129 - mean_absolute_error: 0.1129\n",
            "Epoch 49/50\n",
            "1/1 [==============================] - 0s 13ms/step - loss: 0.4185 - mean_absolute_error: 0.4185\n",
            "Epoch 50/50\n",
            "1/1 [==============================] - 0s 15ms/step - loss: 0.5825 - mean_absolute_error: 0.5825\n"
          ]
        },
        {
          "output_type": "execute_result",
          "data": {
            "text/plain": [
              "<keras.callbacks.History at 0x7f0e187b9910>"
            ]
          },
          "metadata": {},
          "execution_count": 15
        }
      ]
    },
    {
      "cell_type": "code",
      "source": [
        "model2.predict([17.0])"
      ],
      "metadata": {
        "colab": {
          "base_uri": "https://localhost:8080/"
        },
        "id": "sRUnniOj1Fjh",
        "outputId": "3abeb3ee-1231-4182-ad66-093330e924c6"
      },
      "execution_count": 16,
      "outputs": [
        {
          "output_type": "execute_result",
          "data": {
            "text/plain": [
              "array([[26.507225]], dtype=float32)"
            ]
          },
          "metadata": {},
          "execution_count": 16
        }
      ]
    },
    {
      "cell_type": "markdown",
      "source": [
        "#visualize"
      ],
      "metadata": {
        "id": "qOP7HVGzPQEX"
      }
    },
    {
      "cell_type": "code",
      "source": [
        "#create a new dataset\n",
        "X=tf.range(-100,100,4)\n",
        "Y=X+10\n",
        "X,Y"
      ],
      "metadata": {
        "colab": {
          "base_uri": "https://localhost:8080/"
        },
        "id": "ZpCrcNV2PPFS",
        "outputId": "95532835-b8e1-459f-fd41-c1a10bb7f92f"
      },
      "execution_count": 18,
      "outputs": [
        {
          "output_type": "execute_result",
          "data": {
            "text/plain": [
              "(<tf.Tensor: shape=(50,), dtype=int32, numpy=\n",
              " array([-100,  -96,  -92,  -88,  -84,  -80,  -76,  -72,  -68,  -64,  -60,\n",
              "         -56,  -52,  -48,  -44,  -40,  -36,  -32,  -28,  -24,  -20,  -16,\n",
              "         -12,   -8,   -4,    0,    4,    8,   12,   16,   20,   24,   28,\n",
              "          32,   36,   40,   44,   48,   52,   56,   60,   64,   68,   72,\n",
              "          76,   80,   84,   88,   92,   96], dtype=int32)>,\n",
              " <tf.Tensor: shape=(50,), dtype=int32, numpy=\n",
              " array([-90, -86, -82, -78, -74, -70, -66, -62, -58, -54, -50, -46, -42,\n",
              "        -38, -34, -30, -26, -22, -18, -14, -10,  -6,  -2,   2,   6,  10,\n",
              "         14,  18,  22,  26,  30,  34,  38,  42,  46,  50,  54,  58,  62,\n",
              "         66,  70,  74,  78,  82,  86,  90,  94,  98, 102, 106], dtype=int32)>)"
            ]
          },
          "metadata": {},
          "execution_count": 18
        }
      ]
    },
    {
      "cell_type": "code",
      "source": [
        "#visualize\n",
        "import matplotlib.pyplot as plt\n",
        "plt.scatter(X,Y)"
      ],
      "metadata": {
        "colab": {
          "base_uri": "https://localhost:8080/",
          "height": 282
        },
        "id": "9oRnRyS3P2TN",
        "outputId": "2ecb1608-b253-4c0e-bd17-becfd9ecdc66"
      },
      "execution_count": 19,
      "outputs": [
        {
          "output_type": "execute_result",
          "data": {
            "text/plain": [
              "<matplotlib.collections.PathCollection at 0x7f0e1416da50>"
            ]
          },
          "metadata": {},
          "execution_count": 19
        },
        {
          "output_type": "display_data",
          "data": {
            "text/plain": [
              "<Figure size 432x288 with 1 Axes>"
            ],
            "image/png": "[encoded data removed]"
          },
          "metadata": {
            "needs_background": "light"
          }
        }
      ]
    },
    {
      "cell_type": "code",
      "source": [
        "###the 3 set....\n",
        "len(X)"
      ],
      "metadata": {
        "colab": {
          "base_uri": "https://localhost:8080/"
        },
        "id": "C6wFNBJaQAUD",
        "outputId": "6c1709ac-50ed-423e-bf6a-6696a6cbb2aa"
      },
      "execution_count": 20,
      "outputs": [
        {
          "output_type": "execute_result",
          "data": {
            "text/plain": [
              "50"
            ]
          },
          "metadata": {},
          "execution_count": 20
        }
      ]
    },
    {
      "cell_type": "code",
      "source": [
        "X_train=X[:40] #first 40==80%\n",
        "X_test=X[40:]\n",
        "X_train,X_test\n",
        "Y_train=Y[:40]\n",
        "Y_test=Y[40:]\n",
        "len(X_train),len(X_test),len(Y_train),len(Y_test)"
      ],
      "metadata": {
        "colab": {
          "base_uri": "https://localhost:8080/"
        },
        "id": "qoHBods8S08K",
        "outputId": "c88bf0e5-2208-4d5a-e097-620c5e339519"
      },
      "execution_count": 23,
      "outputs": [
        {
          "output_type": "execute_result",
          "data": {
            "text/plain": [
              "(40, 10, 40, 10)"
            ]
          },
          "metadata": {},
          "execution_count": 23
        }
      ]
    },
    {
      "cell_type": "code",
      "source": [
        "#let's visualize it\n",
        "plt.figure(figsize=(10,7))\n",
        "plt.scatter(X_train,Y_train,c=\"b\",label=\"training data\")\n",
        "plt.scatter(X_test,Y_test,c=\"g\",label=\"test data\")\n",
        "plt.show()"
      ],
      "metadata": {
        "colab": {
          "base_uri": "https://localhost:8080/",
          "height": 428
        },
        "id": "vbG2vTR6TmUh",
        "outputId": "f1c9f88c-73e2-4ae0-fb3d-350512ffa978"
      },
      "execution_count": 24,
      "outputs": [
        {
          "output_type": "display_data",
          "data": {
            "text/plain": [
              "<Figure size 720x504 with 1 Axes>"
            ],
            "image/png": "[encoded data removed]"
          },
          "metadata": {
            "needs_background": "light"
          }
        }
      ]
    },
    {
      "cell_type": "code",
      "source": [
        "\n",
        "model3=tf.keras.Sequential([\n",
        "    tf.keras.layers.Dense(1,input_shape=[1],name=\"input_layer\"),\n",
        "    tf.keras.layers.Dense(100,activation=None,name=\"etc_layer\"),\n",
        "    tf.keras.layers.Dense(1,name=\"output_layer\")\n",
        "])\n",
        "model3.compile(optimizer=tf.keras.optimizers.Adam(lr=0.01),\n",
        "               loss=tf.keras.losses.MeanAbsoluteError(),\n",
        "               metrics=tf.keras.metrics.MeanAbsoluteError())\n",
        "model3.fit(X_train,Y_train,epochs=100)"
      ],
      "metadata": {
        "colab": {
          "base_uri": "https://localhost:8080/"
        },
        "id": "cSE062cfUDtm",
        "outputId": "8fdd59fb-d770-494e-cb47-d4bca6c29bad"
      },
      "execution_count": 126,
      "outputs": [
        {
          "output_type": "stream",
          "name": "stdout",
          "text": [
            "Epoch 1/100\n"
          ]
        },
        {
          "output_type": "stream",
          "name": "stderr",
          "text": [
            "/usr/local/lib/python3.7/dist-packages/keras/optimizer_v2/adam.py:105: UserWarning: The `lr` argument is deprecated, use `learning_rate` instead.\n",
            "  super(Adam, self).__init__(name, **kwargs)\n"
          ]
        },
        {
          "output_type": "stream",
          "name": "stdout",
          "text": [
            "2/2 [==============================] - 1s 5ms/step - loss: 46.9359 - mean_absolute_error: 46.9359\n",
            "Epoch 2/100\n",
            "2/2 [==============================] - 0s 12ms/step - loss: 16.8090 - mean_absolute_error: 16.8090\n",
            "Epoch 3/100\n",
            "2/2 [==============================] - 0s 5ms/step - loss: 15.3169 - mean_absolute_error: 15.3169\n",
            "Epoch 4/100\n",
            "2/2 [==============================] - 0s 9ms/step - loss: 22.6701 - mean_absolute_error: 22.6701\n",
            "Epoch 5/100\n",
            "2/2 [==============================] - 0s 17ms/step - loss: 17.7105 - mean_absolute_error: 17.7105\n",
            "Epoch 6/100\n",
            "2/2 [==============================] - 0s 25ms/step - loss: 10.4305 - mean_absolute_error: 10.4305\n",
            "Epoch 7/100\n",
            "2/2 [==============================] - 0s 29ms/step - loss: 10.5782 - mean_absolute_error: 10.5782\n",
            "Epoch 8/100\n",
            "2/2 [==============================] - 0s 8ms/step - loss: 12.5428 - mean_absolute_error: 12.5428\n",
            "Epoch 9/100\n",
            "2/2 [==============================] - 0s 16ms/step - loss: 8.4317 - mean_absolute_error: 8.4317\n",
            "Epoch 10/100\n",
            "2/2 [==============================] - 0s 13ms/step - loss: 8.1657 - mean_absolute_error: 8.1657\n",
            "Epoch 11/100\n",
            "2/2 [==============================] - 0s 7ms/step - loss: 11.0980 - mean_absolute_error: 11.0980\n",
            "Epoch 12/100\n",
            "2/2 [==============================] - 0s 8ms/step - loss: 11.2448 - mean_absolute_error: 11.2448\n",
            "Epoch 13/100\n",
            "2/2 [==============================] - 0s 14ms/step - loss: 9.7760 - mean_absolute_error: 9.7760\n",
            "Epoch 14/100\n",
            "2/2 [==============================] - 0s 8ms/step - loss: 6.6009 - mean_absolute_error: 6.6009\n",
            "Epoch 15/100\n",
            "2/2 [==============================] - 0s 9ms/step - loss: 7.0922 - mean_absolute_error: 7.0922\n",
            "Epoch 16/100\n",
            "2/2 [==============================] - 0s 6ms/step - loss: 7.0325 - mean_absolute_error: 7.0325\n",
            "Epoch 17/100\n",
            "2/2 [==============================] - 0s 25ms/step - loss: 5.8220 - mean_absolute_error: 5.8220\n",
            "Epoch 18/100\n",
            "2/2 [==============================] - 0s 7ms/step - loss: 5.9465 - mean_absolute_error: 5.9465\n",
            "Epoch 19/100\n",
            "2/2 [==============================] - 0s 16ms/step - loss: 5.7684 - mean_absolute_error: 5.7684\n",
            "Epoch 20/100\n",
            "2/2 [==============================] - 0s 6ms/step - loss: 5.2513 - mean_absolute_error: 5.2513\n",
            "Epoch 21/100\n",
            "2/2 [==============================] - 0s 6ms/step - loss: 5.8886 - mean_absolute_error: 5.8886\n",
            "Epoch 22/100\n",
            "2/2 [==============================] - 0s 10ms/step - loss: 5.8951 - mean_absolute_error: 5.8951\n",
            "Epoch 23/100\n",
            "2/2 [==============================] - 0s 11ms/step - loss: 4.8419 - mean_absolute_error: 4.8419\n",
            "Epoch 24/100\n",
            "2/2 [==============================] - 0s 21ms/step - loss: 4.6733 - mean_absolute_error: 4.6733\n",
            "Epoch 25/100\n",
            "2/2 [==============================] - 0s 11ms/step - loss: 4.5382 - mean_absolute_error: 4.5382\n",
            "Epoch 26/100\n",
            "2/2 [==============================] - 0s 11ms/step - loss: 4.0714 - mean_absolute_error: 4.0714\n",
            "Epoch 27/100\n",
            "2/2 [==============================] - 0s 16ms/step - loss: 4.2076 - mean_absolute_error: 4.2076\n",
            "Epoch 28/100\n",
            "2/2 [==============================] - 0s 18ms/step - loss: 3.7858 - mean_absolute_error: 3.7858\n",
            "Epoch 29/100\n",
            "2/2 [==============================] - 0s 11ms/step - loss: 3.6993 - mean_absolute_error: 3.6993\n",
            "Epoch 30/100\n",
            "2/2 [==============================] - 0s 11ms/step - loss: 4.2037 - mean_absolute_error: 4.2037\n",
            "Epoch 31/100\n",
            "2/2 [==============================] - 0s 16ms/step - loss: 3.7729 - mean_absolute_error: 3.7729\n",
            "Epoch 32/100\n",
            "2/2 [==============================] - 0s 11ms/step - loss: 2.9558 - mean_absolute_error: 2.9558\n",
            "Epoch 33/100\n",
            "2/2 [==============================] - 0s 15ms/step - loss: 2.9102 - mean_absolute_error: 2.9102\n",
            "Epoch 34/100\n",
            "2/2 [==============================] - 0s 21ms/step - loss: 2.5475 - mean_absolute_error: 2.5475\n",
            "Epoch 35/100\n",
            "2/2 [==============================] - 0s 13ms/step - loss: 1.9422 - mean_absolute_error: 1.9422\n",
            "Epoch 36/100\n",
            "2/2 [==============================] - 0s 12ms/step - loss: 2.1881 - mean_absolute_error: 2.1881\n",
            "Epoch 37/100\n",
            "2/2 [==============================] - 0s 6ms/step - loss: 1.8866 - mean_absolute_error: 1.8866\n",
            "Epoch 38/100\n",
            "2/2 [==============================] - 0s 13ms/step - loss: 1.1498 - mean_absolute_error: 1.1498\n",
            "Epoch 39/100\n",
            "2/2 [==============================] - 0s 6ms/step - loss: 1.0615 - mean_absolute_error: 1.0615\n",
            "Epoch 40/100\n",
            "2/2 [==============================] - 0s 11ms/step - loss: 0.8148 - mean_absolute_error: 0.8148\n",
            "Epoch 41/100\n",
            "2/2 [==============================] - 0s 6ms/step - loss: 3.0392 - mean_absolute_error: 3.0392\n",
            "Epoch 42/100\n",
            "2/2 [==============================] - 0s 10ms/step - loss: 1.3900 - mean_absolute_error: 1.3900\n",
            "Epoch 43/100\n",
            "2/2 [==============================] - 0s 19ms/step - loss: 5.3016 - mean_absolute_error: 5.3016\n",
            "Epoch 44/100\n",
            "2/2 [==============================] - 0s 8ms/step - loss: 2.2553 - mean_absolute_error: 2.2553\n",
            "Epoch 45/100\n",
            "2/2 [==============================] - 0s 10ms/step - loss: 3.3309 - mean_absolute_error: 3.3309\n",
            "Epoch 46/100\n",
            "2/2 [==============================] - 0s 9ms/step - loss: 0.9461 - mean_absolute_error: 0.9461\n",
            "Epoch 47/100\n",
            "2/2 [==============================] - 0s 8ms/step - loss: 2.8791 - mean_absolute_error: 2.8791\n",
            "Epoch 48/100\n",
            "2/2 [==============================] - 0s 12ms/step - loss: 1.5083 - mean_absolute_error: 1.5083\n",
            "Epoch 49/100\n",
            "2/2 [==============================] - 0s 14ms/step - loss: 0.8747 - mean_absolute_error: 0.8747\n",
            "Epoch 50/100\n",
            "2/2 [==============================] - 0s 7ms/step - loss: 0.7114 - mean_absolute_error: 0.7114\n",
            "Epoch 51/100\n",
            "2/2 [==============================] - 0s 9ms/step - loss: 1.4512 - mean_absolute_error: 1.4512\n",
            "Epoch 52/100\n",
            "2/2 [==============================] - 0s 6ms/step - loss: 1.0977 - mean_absolute_error: 1.0977\n",
            "Epoch 53/100\n",
            "2/2 [==============================] - 0s 8ms/step - loss: 0.0709 - mean_absolute_error: 0.0709\n",
            "Epoch 54/100\n",
            "2/2 [==============================] - 0s 23ms/step - loss: 0.5623 - mean_absolute_error: 0.5623\n",
            "Epoch 55/100\n",
            "2/2 [==============================] - 0s 7ms/step - loss: 0.4853 - mean_absolute_error: 0.4853\n",
            "Epoch 56/100\n",
            "2/2 [==============================] - 0s 12ms/step - loss: 0.7250 - mean_absolute_error: 0.7250\n",
            "Epoch 57/100\n",
            "2/2 [==============================] - 0s 19ms/step - loss: 1.0724 - mean_absolute_error: 1.0724\n",
            "Epoch 58/100\n",
            "2/2 [==============================] - 0s 9ms/step - loss: 0.6913 - mean_absolute_error: 0.6913\n",
            "Epoch 59/100\n",
            "2/2 [==============================] - 0s 10ms/step - loss: 0.2682 - mean_absolute_error: 0.2682\n",
            "Epoch 60/100\n",
            "2/2 [==============================] - 0s 7ms/step - loss: 0.7177 - mean_absolute_error: 0.7177\n",
            "Epoch 61/100\n",
            "2/2 [==============================] - 0s 7ms/step - loss: 1.3714 - mean_absolute_error: 1.3714\n",
            "Epoch 62/100\n",
            "2/2 [==============================] - 0s 13ms/step - loss: 0.3838 - mean_absolute_error: 0.3838\n",
            "Epoch 63/100\n",
            "2/2 [==============================] - 0s 10ms/step - loss: 0.7110 - mean_absolute_error: 0.7110\n",
            "Epoch 64/100\n",
            "2/2 [==============================] - 0s 14ms/step - loss: 1.2455 - mean_absolute_error: 1.2455\n",
            "Epoch 65/100\n",
            "2/2 [==============================] - 0s 6ms/step - loss: 1.1744 - mean_absolute_error: 1.1744\n",
            "Epoch 66/100\n",
            "2/2 [==============================] - 0s 16ms/step - loss: 0.3770 - mean_absolute_error: 0.3770\n",
            "Epoch 67/100\n",
            "2/2 [==============================] - 0s 7ms/step - loss: 0.4052 - mean_absolute_error: 0.4052\n",
            "Epoch 68/100\n",
            "2/2 [==============================] - 0s 6ms/step - loss: 0.4107 - mean_absolute_error: 0.4107\n",
            "Epoch 69/100\n",
            "2/2 [==============================] - 0s 8ms/step - loss: 0.8241 - mean_absolute_error: 0.8241\n",
            "Epoch 70/100\n",
            "2/2 [==============================] - 0s 6ms/step - loss: 1.7444 - mean_absolute_error: 1.7444\n",
            "Epoch 71/100\n",
            "2/2 [==============================] - 0s 9ms/step - loss: 1.3283 - mean_absolute_error: 1.3283\n",
            "Epoch 72/100\n",
            "2/2 [==============================] - 0s 5ms/step - loss: 1.1867 - mean_absolute_error: 1.1867\n",
            "Epoch 73/100\n",
            "2/2 [==============================] - 0s 20ms/step - loss: 2.2675 - mean_absolute_error: 2.2675\n",
            "Epoch 74/100\n",
            "2/2 [==============================] - 0s 16ms/step - loss: 1.5684 - mean_absolute_error: 1.5684\n",
            "Epoch 75/100\n",
            "2/2 [==============================] - 0s 6ms/step - loss: 0.8627 - mean_absolute_error: 0.8627\n",
            "Epoch 76/100\n",
            "2/2 [==============================] - 0s 8ms/step - loss: 0.4070 - mean_absolute_error: 0.4070\n",
            "Epoch 77/100\n",
            "2/2 [==============================] - 0s 14ms/step - loss: 1.3982 - mean_absolute_error: 1.3982\n",
            "Epoch 78/100\n",
            "2/2 [==============================] - 0s 13ms/step - loss: 2.0957 - mean_absolute_error: 2.0957\n",
            "Epoch 79/100\n",
            "2/2 [==============================] - 0s 10ms/step - loss: 1.3069 - mean_absolute_error: 1.3069\n",
            "Epoch 80/100\n",
            "2/2 [==============================] - 0s 6ms/step - loss: 1.7075 - mean_absolute_error: 1.7075\n",
            "Epoch 81/100\n",
            "2/2 [==============================] - 0s 11ms/step - loss: 1.6974 - mean_absolute_error: 1.6974\n",
            "Epoch 82/100\n",
            "2/2 [==============================] - 0s 23ms/step - loss: 1.3338 - mean_absolute_error: 1.3338\n",
            "Epoch 83/100\n",
            "2/2 [==============================] - 0s 13ms/step - loss: 1.1183 - mean_absolute_error: 1.1183\n",
            "Epoch 84/100\n",
            "2/2 [==============================] - 0s 5ms/step - loss: 1.5729 - mean_absolute_error: 1.5729\n",
            "Epoch 85/100\n",
            "2/2 [==============================] - 0s 8ms/step - loss: 1.0005 - mean_absolute_error: 1.0005\n",
            "Epoch 86/100\n",
            "2/2 [==============================] - 0s 7ms/step - loss: 1.4402 - mean_absolute_error: 1.4402\n",
            "Epoch 87/100\n",
            "2/2 [==============================] - 0s 16ms/step - loss: 2.4043 - mean_absolute_error: 2.4043\n",
            "Epoch 88/100\n",
            "2/2 [==============================] - 0s 11ms/step - loss: 1.9211 - mean_absolute_error: 1.9211\n",
            "Epoch 89/100\n",
            "2/2 [==============================] - 0s 8ms/step - loss: 1.4396 - mean_absolute_error: 1.4396\n",
            "Epoch 90/100\n",
            "2/2 [==============================] - 0s 18ms/step - loss: 0.6725 - mean_absolute_error: 0.6725\n",
            "Epoch 91/100\n",
            "2/2 [==============================] - 0s 12ms/step - loss: 0.3436 - mean_absolute_error: 0.3436\n",
            "Epoch 92/100\n",
            "2/2 [==============================] - 0s 14ms/step - loss: 1.2232 - mean_absolute_error: 1.2232\n",
            "Epoch 93/100\n",
            "2/2 [==============================] - 0s 13ms/step - loss: 0.4636 - mean_absolute_error: 0.4636\n",
            "Epoch 94/100\n",
            "2/2 [==============================] - 0s 6ms/step - loss: 0.7084 - mean_absolute_error: 0.7084\n",
            "Epoch 95/100\n",
            "2/2 [==============================] - 0s 9ms/step - loss: 0.8759 - mean_absolute_error: 0.8759\n",
            "Epoch 96/100\n",
            "2/2 [==============================] - 0s 6ms/step - loss: 0.9335 - mean_absolute_error: 0.9335\n",
            "Epoch 97/100\n",
            "2/2 [==============================] - 0s 22ms/step - loss: 0.5150 - mean_absolute_error: 0.5150\n",
            "Epoch 98/100\n",
            "2/2 [==============================] - 0s 6ms/step - loss: 0.6855 - mean_absolute_error: 0.6855\n",
            "Epoch 99/100\n",
            "2/2 [==============================] - 0s 15ms/step - loss: 0.9380 - mean_absolute_error: 0.9380\n",
            "Epoch 100/100\n",
            "2/2 [==============================] - 0s 5ms/step - loss: 0.5479 - mean_absolute_error: 0.5479\n"
          ]
        },
        {
          "output_type": "execute_result",
          "data": {
            "text/plain": [
              "<keras.callbacks.History at 0x7f0e0748ddd0>"
            ]
          },
          "metadata": {},
          "execution_count": 126
        }
      ]
    },
    {
      "cell_type": "code",
      "source": [
        "model3.summary()"
      ],
      "metadata": {
        "colab": {
          "base_uri": "https://localhost:8080/"
        },
        "id": "_2WutFbSWp-B",
        "outputId": "0459abdf-b19d-462c-e05e-2a5b3f135cae"
      },
      "execution_count": 127,
      "outputs": [
        {
          "output_type": "stream",
          "name": "stdout",
          "text": [
            "Model: \"sequential_35\"\n",
            "_________________________________________________________________\n",
            " Layer (type)                Output Shape              Param #   \n",
            "=================================================================\n",
            " input_layer (Dense)         (None, 1)                 2         \n",
            "                                                                 \n",
            " etc_layer (Dense)           (None, 100)               200       \n",
            "                                                                 \n",
            " output_layer (Dense)        (None, 1)                 101       \n",
            "                                                                 \n",
            "=================================================================\n",
            "Total params: 303\n",
            "Trainable params: 303\n",
            "Non-trainable params: 0\n",
            "_________________________________________________________________\n"
          ]
        }
      ]
    },
    {
      "cell_type": "code",
      "source": [
        "model3.predict([140])"
      ],
      "metadata": {
        "colab": {
          "base_uri": "https://localhost:8080/"
        },
        "id": "nvu0wp1WVIgE",
        "outputId": "df6ae716-9595-40e0-ff95-414429aa0e0a"
      },
      "execution_count": 128,
      "outputs": [
        {
          "output_type": "execute_result",
          "data": {
            "text/plain": [
              "array([[152.84818]], dtype=float32)"
            ]
          },
          "metadata": {},
          "execution_count": 128
        }
      ]
    },
    {
      "cell_type": "markdown",
      "source": [
        "#try to evaluation plot"
      ],
      "metadata": {
        "id": "N3oBFgrwax9s"
      }
    },
    {
      "cell_type": "code",
      "source": [
        "from tensorflow.keras.utils import plot_model\n",
        "plot_model(model=model3,show_shapes=True)"
      ],
      "metadata": {
        "colab": {
          "base_uri": "https://localhost:8080/",
          "height": 422
        },
        "id": "7W5DthpQa1Eo",
        "outputId": "e4733701-e159-4a5a-8ce3-70946e737abe"
      },
      "execution_count": 129,
      "outputs": [
        {
          "output_type": "execute_result",
          "data": {
            "image/png": "[encoded data removed]",
            "text/plain": [
              "<IPython.core.display.Image object>"
            ]
          },
          "metadata": {},
          "execution_count": 129
        }
      ]
    },
    {
      "cell_type": "code",
      "source": [
        "#Make some prediction\n",
        "Y_pred=model3.predict(X_test)\n",
        "Y_pred"
      ],
      "metadata": {
        "colab": {
          "base_uri": "https://localhost:8080/"
        },
        "id": "IhdBdyIxcbZg",
        "outputId": "d9906890-83e0-4f4a-f65b-470c4062c387"
      },
      "execution_count": 132,
      "outputs": [
        {
          "output_type": "execute_result",
          "data": {
            "text/plain": [
              "array([[ 71.275536],\n",
              "       [ 75.35417 ],\n",
              "       [ 79.4328  ],\n",
              "       [ 83.51144 ],\n",
              "       [ 87.590065],\n",
              "       [ 91.66869 ],\n",
              "       [ 95.74734 ],\n",
              "       [ 99.82596 ],\n",
              "       [103.9046  ],\n",
              "       [107.98324 ]], dtype=float32)"
            ]
          },
          "metadata": {},
          "execution_count": 132
        }
      ]
    },
    {
      "cell_type": "code",
      "source": [
        "plt.figure(figsize=(10,7))\n",
        "plt.scatter(X_train,Y_train,c=\"b\",label=\"training\")\n",
        "plt.scatter(X_test,Y_test,c=\"g\",label=\"green\")\n",
        "plt.scatter(X_test,Y_pred,c=\"r\",label=\"predicts\")\n",
        "plt.legend()\n",
        "plt.show()"
      ],
      "metadata": {
        "colab": {
          "base_uri": "https://localhost:8080/",
          "height": 428
        },
        "id": "xSc5pvMLc4AA",
        "outputId": "a74cddfc-5d9f-43d1-a556-dba61f3c1acc"
      },
      "execution_count": 138,
      "outputs": [
        {
          "output_type": "display_data",
          "data": {
            "text/plain": [
              "<Figure size 720x504 with 1 Axes>"
            ],
            "image/png": "[encoded data removed]"
          },
          "metadata": {
            "needs_background": "light"
          }
        }
      ]
    },
    {
      "cell_type": "markdown",
      "source": [
        "#MAE mean absolute error\n",
        "![image.png](data:image/png;base64,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)"
      ],
      "metadata": {
        "id": "jAIONJqJgcEY"
      }
    },
    {
      "cell_type": "code",
      "source": [
        "model3.evaluate(X_test,Y_test)"
      ],
      "metadata": {
        "colab": {
          "base_uri": "https://localhost:8080/"
        },
        "id": "MW0ecOg5g3dN",
        "outputId": "52a75b65-8d85-449d-d700-539f26d6473a"
      },
      "execution_count": 139,
      "outputs": [
        {
          "output_type": "stream",
          "name": "stdout",
          "text": [
            "1/1 [==============================] - 0s 289ms/step - loss: 1.6294 - mean_absolute_error: 1.6294\n"
          ]
        },
        {
          "output_type": "execute_result",
          "data": {
            "text/plain": [
              "[1.629381537437439, 1.629381537437439]"
            ]
          },
          "metadata": {},
          "execution_count": 139
        }
      ]
    },
    {
      "cell_type": "code",
      "source": [
        "#calculate the mean absolute error\n",
        "mae=tf.metrics.MeanAbsoluteError()\n",
        "mae.update_state(Y_pred,Y_test)\n",
        "mae.result()\n",
        "#the result is equal to the evaluate"
      ],
      "metadata": {
        "colab": {
          "base_uri": "https://localhost:8080/"
        },
        "id": "F1nwa-ZPhN-k",
        "outputId": "d7eba707-8ec8-4b56-ec17-a2a8297f09c6"
      },
      "execution_count": 146,
      "outputs": [
        {
          "output_type": "execute_result",
          "data": {
            "text/plain": [
              "<tf.Tensor: shape=(), dtype=float32, numpy=1.6293838>"
            ]
          },
          "metadata": {},
          "execution_count": 146
        }
      ]
    },
    {
      "cell_type": "code",
      "source": [
        "#calculate mean square error\n",
        "mse=tf.metrics.MeanSquaredError()\n",
        "mse.update_state(Y_pred,Y_test)\n",
        "mse.result()"
      ],
      "metadata": {
        "colab": {
          "base_uri": "https://localhost:8080/"
        },
        "id": "1F6ygL1RjcAj",
        "outputId": "97d2ff4b-54cd-4962-8957-94232a521ace"
      },
      "execution_count": 147,
      "outputs": [
        {
          "output_type": "execute_result",
          "data": {
            "text/plain": [
              "<tf.Tensor: shape=(), dtype=float32, numpy=2.7059028>"
            ]
          },
          "metadata": {},
          "execution_count": 147
        }
      ]
    }
  ]
}