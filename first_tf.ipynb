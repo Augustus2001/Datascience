{
  "nbformat": 4,
  "nbformat_minor": 0,
  "metadata": {
    "colab": {
      "name": "first_tf.ipynb",
      "provenance": [],
      "collapsed_sections": [],
      "authorship_tag": "ABX9TyMapNkFQVV0OEYO0Cj4sdX+",
      "include_colab_link": true
    },
    "kernelspec": {
      "name": "python3",
      "display_name": "Python 3"
    },
    "language_info": {
      "name": "python"
    }
  },
  "cells": [
    {
      "cell_type": "markdown",
      "metadata": {
        "id": "view-in-github",
        "colab_type": "text"
      },
      "source": [
        "<a href=\"https://colab.research.google.com/github/Augustus2001/Datascience/blob/main/first_tf.ipynb\" target=\"_parent\"><img src=\"https://colab.research.google.com/assets/colab-badge.svg\" alt=\"Open In Colab\"/></a>"
      ]
    },
    {
      "cell_type": "code",
      "execution_count": 29,
      "metadata": {
        "colab": {
          "base_uri": "https://localhost:8080/"
        },
        "id": "YPekNqzlhzh6",
        "outputId": "bef8a7e1-64ea-4461-867d-b236ede1133a"
      },
      "outputs": [
        {
          "output_type": "stream",
          "name": "stdout",
          "text": [
            "2.8.2\n"
          ]
        }
      ],
      "source": [
        "#kun kerdthaisong\n",
        "#07/17/2022\n",
        "#ref Laurence Moroney\n",
        "\n",
        "#import tensorflow\n",
        "import tensorflow as tf\n",
        "print(tf.__version__)\n",
        "#create callback\n",
        "class myCallback(tf.keras.callbacks.Callback):\n",
        "  def on_epoch_end(self,epoch,logs={}):\n",
        "    if(logs.get(\"accuracy\")>0.95):\n",
        "      print(\"\\n reached 95% acc stop training\")\n",
        "      self.model.stop_training=True\n",
        "callbacks=myCallback()\n",
        "data=tf.keras.datasets.fashion_mnist"
      ]
    },
    {
      "cell_type": "code",
      "source": [
        "#load data from fashion_mnist\n",
        "(train_images,train_labels),(test_images,test_labels)=data.load_data()\n",
        "\n",
        "#change pixels in array between 0-255 to 0-1 ==this is calles normalize\n",
        "train_images=train_images/255\n",
        "test_images=test_images/255\n",
        "\n"
      ],
      "metadata": {
        "id": "ZMJQslsfiT7g"
      },
      "execution_count": 30,
      "outputs": []
    },
    {
      "cell_type": "code",
      "source": [
        "#create model\n",
        "model=tf.keras.models.Sequential([\n",
        "                                  tf.keras.layers.Flatten(input_shape=(28,28)),#the input layer: change 2D 28x28 pixels to 1d\n",
        "                                  tf.keras.layers.Dense(128,activation=tf.nn.relu), #hidden layer use 128 neurons(came randomly the more neurons the more acc the more time and overfit) and activate as relu\n",
        "                                  tf.keras.layers.Dense(10,activation=tf.nn.softmax) #output layers use 10 neurons bcz there are 10 lebels \n",
        "])\n",
        "#conclusion this architecture use 3 layers.\n",
        "\n"
      ],
      "metadata": {
        "id": "NiZkw7o3jJij"
      },
      "execution_count": 31,
      "outputs": []
    },
    {
      "cell_type": "code",
      "source": [
        "#define loss_function and optimizer\n",
        "model.compile(optimizer=\"adam\",\n",
        "              loss=\"sparse_categorical_crossentropy\",\n",
        "              metrics=[\"accuracy\"])\n"
      ],
      "metadata": {
        "id": "MInxhE_wmfKl"
      },
      "execution_count": 32,
      "outputs": []
    },
    {
      "cell_type": "code",
      "source": [
        "\n",
        "#traning\n",
        "model.fit(train_images,train_labels,epochs=60,callbacks=[callbacks])"
      ],
      "metadata": {
        "colab": {
          "base_uri": "https://localhost:8080/"
        },
        "id": "F09QF3oLnglj",
        "outputId": "acba6fc6-466a-42ff-c3b0-b1e26790e936"
      },
      "execution_count": 33,
      "outputs": [
        {
          "output_type": "stream",
          "name": "stdout",
          "text": [
            "Epoch 1/60\n",
            "1875/1875 [==============================] - 4s 2ms/step - loss: 0.4941 - accuracy: 0.8260\n",
            "Epoch 2/60\n",
            "1875/1875 [==============================] - 4s 2ms/step - loss: 0.3741 - accuracy: 0.8647\n",
            "Epoch 3/60\n",
            "1875/1875 [==============================] - 4s 2ms/step - loss: 0.3353 - accuracy: 0.8773\n",
            "Epoch 4/60\n",
            "1875/1875 [==============================] - 4s 2ms/step - loss: 0.3141 - accuracy: 0.8844\n",
            "Epoch 5/60\n",
            "1875/1875 [==============================] - 5s 3ms/step - loss: 0.2953 - accuracy: 0.8905\n",
            "Epoch 6/60\n",
            "1875/1875 [==============================] - 4s 2ms/step - loss: 0.2820 - accuracy: 0.8957\n",
            "Epoch 7/60\n",
            "1875/1875 [==============================] - 4s 2ms/step - loss: 0.2677 - accuracy: 0.8996\n",
            "Epoch 8/60\n",
            "1875/1875 [==============================] - 4s 2ms/step - loss: 0.2565 - accuracy: 0.9050\n",
            "Epoch 9/60\n",
            "1875/1875 [==============================] - 4s 2ms/step - loss: 0.2467 - accuracy: 0.9078\n",
            "Epoch 10/60\n",
            "1875/1875 [==============================] - 4s 2ms/step - loss: 0.2374 - accuracy: 0.9107\n",
            "Epoch 11/60\n",
            "1875/1875 [==============================] - 4s 2ms/step - loss: 0.2292 - accuracy: 0.9140\n",
            "Epoch 12/60\n",
            "1875/1875 [==============================] - 4s 2ms/step - loss: 0.2220 - accuracy: 0.9167\n",
            "Epoch 13/60\n",
            "1875/1875 [==============================] - 4s 2ms/step - loss: 0.2137 - accuracy: 0.9197\n",
            "Epoch 14/60\n",
            "1875/1875 [==============================] - 4s 2ms/step - loss: 0.2084 - accuracy: 0.9225\n",
            "Epoch 15/60\n",
            "1875/1875 [==============================] - 4s 2ms/step - loss: 0.2020 - accuracy: 0.9235\n",
            "Epoch 16/60\n",
            "1875/1875 [==============================] - 4s 2ms/step - loss: 0.1956 - accuracy: 0.9261\n",
            "Epoch 17/60\n",
            "1875/1875 [==============================] - 4s 2ms/step - loss: 0.1919 - accuracy: 0.9281\n",
            "Epoch 18/60\n",
            "1875/1875 [==============================] - 4s 2ms/step - loss: 0.1850 - accuracy: 0.9309\n",
            "Epoch 19/60\n",
            "1875/1875 [==============================] - 4s 2ms/step - loss: 0.1804 - accuracy: 0.9316\n",
            "Epoch 20/60\n",
            "1875/1875 [==============================] - 4s 2ms/step - loss: 0.1768 - accuracy: 0.9342\n",
            "Epoch 21/60\n",
            "1875/1875 [==============================] - 5s 3ms/step - loss: 0.1711 - accuracy: 0.9350\n",
            "Epoch 22/60\n",
            "1875/1875 [==============================] - 4s 2ms/step - loss: 0.1668 - accuracy: 0.9377\n",
            "Epoch 23/60\n",
            "1875/1875 [==============================] - 4s 2ms/step - loss: 0.1635 - accuracy: 0.9381\n",
            "Epoch 24/60\n",
            "1875/1875 [==============================] - 4s 2ms/step - loss: 0.1592 - accuracy: 0.9403\n",
            "Epoch 25/60\n",
            "1875/1875 [==============================] - 4s 2ms/step - loss: 0.1559 - accuracy: 0.9412\n",
            "Epoch 26/60\n",
            "1875/1875 [==============================] - 4s 2ms/step - loss: 0.1515 - accuracy: 0.9430\n",
            "Epoch 27/60\n",
            "1875/1875 [==============================] - 4s 2ms/step - loss: 0.1483 - accuracy: 0.9437\n",
            "Epoch 28/60\n",
            "1875/1875 [==============================] - 4s 2ms/step - loss: 0.1464 - accuracy: 0.9444\n",
            "Epoch 29/60\n",
            "1875/1875 [==============================] - 4s 2ms/step - loss: 0.1433 - accuracy: 0.9462\n",
            "Epoch 30/60\n",
            "1875/1875 [==============================] - 4s 2ms/step - loss: 0.1388 - accuracy: 0.9483\n",
            "Epoch 31/60\n",
            "1875/1875 [==============================] - 4s 2ms/step - loss: 0.1352 - accuracy: 0.9495\n",
            "Epoch 32/60\n",
            "1875/1875 [==============================] - 4s 2ms/step - loss: 0.1335 - accuracy: 0.9499\n",
            "Epoch 33/60\n",
            "1858/1875 [============================>.] - ETA: 0s - loss: 0.1307 - accuracy: 0.9519\n",
            " reached 95% acc stop training\n",
            "1875/1875 [==============================] - 4s 2ms/step - loss: 0.1309 - accuracy: 0.9519\n"
          ]
        },
        {
          "output_type": "execute_result",
          "data": {
            "text/plain": [
              "<keras.callbacks.History at 0x7fd27f978950>"
            ]
          },
          "metadata": {},
          "execution_count": 33
        }
      ]
    },
    {
      "cell_type": "code",
      "source": [
        "#evaluation\n",
        "model.evaluate(test_images,test_labels)"
      ],
      "metadata": {
        "colab": {
          "base_uri": "https://localhost:8080/"
        },
        "id": "uBJOEV37oNKW",
        "outputId": "2268ec94-6c37-485f-e1c5-7430780a0044"
      },
      "execution_count": 37,
      "outputs": [
        {
          "output_type": "stream",
          "name": "stdout",
          "text": [
            "313/313 [==============================] - 0s 1ms/step - loss: 0.4211 - accuracy: 0.8848\n"
          ]
        },
        {
          "output_type": "execute_result",
          "data": {
            "text/plain": [
              "[0.42111504077911377, 0.8848000168800354]"
            ]
          },
          "metadata": {},
          "execution_count": 37
        }
      ]
    },
    {
      "cell_type": "code",
      "source": [
        "#sample testing\n",
        "import numpy as np\n",
        "result=model.predict(test_images)\n",
        "print(result[0])\n",
        "print(test_labels[0])\n",
        "for i,j in enumerate(test_labels[0:10]):\n",
        "  print(np.where(result[i]==result[i].max()),j)"
      ],
      "metadata": {
        "colab": {
          "base_uri": "https://localhost:8080/"
        },
        "id": "5q-qB4Heoy2E",
        "outputId": "cfd89dd4-52f3-4fa2-ca96-15c5f55ff76a"
      },
      "execution_count": 72,
      "outputs": [
        {
          "output_type": "stream",
          "name": "stdout",
          "text": [
            "[3.0128534e-15 3.0251199e-14 5.8392376e-15 2.4421676e-20 3.2350306e-17\n",
            " 1.1726775e-08 9.8431810e-15 2.9038129e-05 5.5351237e-16 9.9997091e-01]\n",
            "9\n",
            "(array([9]),) 9\n",
            "(array([2]),) 2\n",
            "(array([1]),) 1\n",
            "(array([1]),) 1\n",
            "(array([6]),) 6\n",
            "(array([1]),) 1\n",
            "(array([4]),) 4\n",
            "(array([6]),) 6\n",
            "(array([5]),) 5\n",
            "(array([7]),) 7\n"
          ]
        }
      ]
    }
  ]
}