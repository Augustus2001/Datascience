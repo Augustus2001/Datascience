{
  "nbformat": 4,
  "nbformat_minor": 0,
  "metadata": {
    "colab": {
      "name": "first_tf.ipynb",
      "provenance": [],
      "collapsed_sections": [],
      "authorship_tag": "ABX9TyMTPjAbKBg1Jl8lX/m0Feqq",
      "include_colab_link": true
    },
    "kernelspec": {
      "name": "python3",
      "display_name": "Python 3"
    },
    "language_info": {
      "name": "python"
    }
  },
  "cells": [
    {
      "cell_type": "markdown",
      "metadata": {
        "id": "view-in-github",
        "colab_type": "text"
      },
      "source": [
        "<a href=\"https://colab.research.google.com/github/Augustus2001/Datascience/blob/main/first_tf.ipynb\" target=\"_parent\"><img src=\"https://colab.research.google.com/assets/colab-badge.svg\" alt=\"Open In Colab\"/></a>"
      ]
    },
    {
      "cell_type": "code",
      "execution_count": 105,
      "metadata": {
        "colab": {
          "base_uri": "https://localhost:8080/"
        },
        "id": "YPekNqzlhzh6",
        "outputId": "aa6ac325-3dfc-4564-8bce-4481701c7d97"
      },
      "outputs": [
        {
          "output_type": "stream",
          "name": "stdout",
          "text": [
            "2.8.2\n"
          ]
        }
      ],
      "source": [
        "#kun kerdthaisong\n",
        "#07/17/2022\n",
        "#ref Laurence Moroney\n",
        "\n",
        "#import tensorflow\n",
        "import tensorflow as tf\n",
        "print(tf.__version__)\n",
        "#create callback\n",
        "class myCallback(tf.keras.callbacks.Callback):\n",
        "  def on_epoch_end(self,epoch,logs={}):\n",
        "    if(logs.get(\"accuracy\")>0.95):\n",
        "      print(\"\\n reached 0.89% acc stop training\")\n",
        "      self.model.stop_training=True\n",
        "callbacks=myCallback()\n",
        "data=tf.keras.datasets.fashion_mnist"
      ]
    },
    {
      "cell_type": "code",
      "source": [
        "#load data from fashion_mnist\n",
        "(train_images,train_labels),(test_images,test_labels)=data.load_data()\n",
        "#reshape to prepare cnn\n",
        "print(train_images.shape)\n",
        "train_images=train_images.reshape(60000,28,28,1)\n",
        "test_images=test_images.reshape(10000,28,28,1)\n",
        "#change pixels in array between 0-255 to 0-1 ==this is calles normalize\n",
        "train_images=train_images/255\n",
        "test_images=test_images/255\n",
        "\n"
      ],
      "metadata": {
        "id": "ZMJQslsfiT7g",
        "outputId": "db504ee7-b414-4302-d125-db7e03dce73e",
        "colab": {
          "base_uri": "https://localhost:8080/"
        }
      },
      "execution_count": 106,
      "outputs": [
        {
          "output_type": "stream",
          "name": "stdout",
          "text": [
            "(60000, 28, 28)\n"
          ]
        }
      ]
    },
    {
      "cell_type": "code",
      "source": [
        "from tensorflow.python.ops.gen_nn_ops import Conv2D\n",
        "#create model\n",
        "model=tf.keras.models.Sequential([\n",
        "                                  tf.keras.layers.Conv2D(64,(2,2),activation='relu',input_shape=(28,28,1)), #add Cnn \n",
        "                                  tf.keras.layers.MaxPool2D(pool_size=(2,2)), #max pool\n",
        "                                  tf.keras.layers.Conv2D(64,(2,2),activation='relu',input_shape=(28,28,1)),\n",
        "                                  tf.keras.layers.MaxPool2D(pool_size=(2,2)),\n",
        "                                  tf.keras.layers.Flatten(),#the input layer: change 2D 28x28 pixels to 1d\n",
        "                                  tf.keras.layers.Dense(128,activation=tf.nn.relu), #hidden layer use 128 neurons(came randomly the more neurons the more acc the more time and overfit) and activate as relu\n",
        "                                  tf.keras.layers.Dense(10,activation=tf.nn.softmax) #output layers use 10 neurons bcz there are 10 lebels \n",
        "])\n",
        "#conclusion this architecture use 3 layers.\n",
        "\n"
      ],
      "metadata": {
        "id": "NiZkw7o3jJij"
      },
      "execution_count": 107,
      "outputs": []
    },
    {
      "cell_type": "code",
      "source": [
        "#define loss_function and optimizer\n",
        "model.compile(optimizer=\"adam\",\n",
        "              loss=\"sparse_categorical_crossentropy\",\n",
        "              metrics=[\"accuracy\"])\n"
      ],
      "metadata": {
        "id": "MInxhE_wmfKl"
      },
      "execution_count": 108,
      "outputs": []
    },
    {
      "cell_type": "code",
      "source": [
        "\n",
        "#traning\n",
        "model.fit(train_images,train_labels,epochs=20,callbacks=[callbacks])"
      ],
      "metadata": {
        "colab": {
          "base_uri": "https://localhost:8080/"
        },
        "id": "F09QF3oLnglj",
        "outputId": "ca0e51a3-d250-4e54-dbb2-bfc9a3ef4c24"
      },
      "execution_count": 109,
      "outputs": [
        {
          "output_type": "stream",
          "name": "stdout",
          "text": [
            "Epoch 1/20\n",
            "1875/1875 [==============================] - 77s 41ms/step - loss: 0.4233 - accuracy: 0.8450\n",
            "Epoch 2/20\n",
            "1875/1875 [==============================] - 76s 40ms/step - loss: 0.2876 - accuracy: 0.8942\n",
            "Epoch 3/20\n",
            "1875/1875 [==============================] - 75s 40ms/step - loss: 0.2446 - accuracy: 0.9089\n",
            "Epoch 4/20\n",
            "1875/1875 [==============================] - 76s 41ms/step - loss: 0.2127 - accuracy: 0.9208\n",
            "Epoch 5/20\n",
            "1875/1875 [==============================] - 75s 40ms/step - loss: 0.1849 - accuracy: 0.9298\n",
            "Epoch 6/20\n",
            "1875/1875 [==============================] - 73s 39ms/step - loss: 0.1614 - accuracy: 0.9392\n",
            "Epoch 7/20\n",
            "1875/1875 [==============================] - 73s 39ms/step - loss: 0.1398 - accuracy: 0.9476\n",
            "Epoch 8/20\n",
            "1874/1875 [============================>.] - ETA: 0s - loss: 0.1210 - accuracy: 0.9543\n",
            " reached 0.89% acc stop training\n",
            "1875/1875 [==============================] - 73s 39ms/step - loss: 0.1210 - accuracy: 0.9543\n"
          ]
        },
        {
          "output_type": "execute_result",
          "data": {
            "text/plain": [
              "<keras.callbacks.History at 0x7efcf6100a10>"
            ]
          },
          "metadata": {},
          "execution_count": 109
        }
      ]
    },
    {
      "cell_type": "code",
      "source": [
        "#evaluation\n",
        "model.evaluate(test_images,test_labels)"
      ],
      "metadata": {
        "colab": {
          "base_uri": "https://localhost:8080/"
        },
        "id": "uBJOEV37oNKW",
        "outputId": "528ee167-dcb5-4954-ba40-c510a6da34a4"
      },
      "execution_count": 110,
      "outputs": [
        {
          "output_type": "stream",
          "name": "stdout",
          "text": [
            "313/313 [==============================] - 4s 12ms/step - loss: 0.2538 - accuracy: 0.9174\n"
          ]
        },
        {
          "output_type": "execute_result",
          "data": {
            "text/plain": [
              "[0.2537848651409149, 0.9174000024795532]"
            ]
          },
          "metadata": {},
          "execution_count": 110
        }
      ]
    },
    {
      "cell_type": "code",
      "source": [
        "#sample testing\n",
        "import numpy as np\n",
        "result=model.predict(test_images)\n",
        "print(result[0])\n",
        "print(test_labels[0])\n",
        "for i,j in enumerate(test_labels[0:10]):\n",
        "  print(np.where(result[i]==result[i].max()),j)"
      ],
      "metadata": {
        "colab": {
          "base_uri": "https://localhost:8080/"
        },
        "id": "5q-qB4Heoy2E",
        "outputId": "65546b71-fe27-44f3-8f2d-6f189f4976fc"
      },
      "execution_count": 111,
      "outputs": [
        {
          "output_type": "stream",
          "name": "stdout",
          "text": [
            "[4.3848991e-09 2.4452383e-08 7.5883527e-10 5.0525475e-08 2.0840864e-10\n",
            " 4.5618503e-06 3.3027042e-10 1.3197164e-04 2.0492013e-11 9.9986339e-01]\n",
            "9\n",
            "(array([9]),) 9\n",
            "(array([2]),) 2\n",
            "(array([1]),) 1\n",
            "(array([1]),) 1\n",
            "(array([6]),) 6\n",
            "(array([1]),) 1\n",
            "(array([4]),) 4\n",
            "(array([6]),) 6\n",
            "(array([5]),) 5\n",
            "(array([7]),) 7\n"
          ]
        }
      ]
    }
  ]
}