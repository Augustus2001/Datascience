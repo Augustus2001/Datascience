{
  "nbformat": 4,
  "nbformat_minor": 0,
  "metadata": {
    "colab": {
      "name": "Monkeypox.ipynb",
      "provenance": [],
      "collapsed_sections": [],
      "authorship_tag": "ABX9TyNFRLkwsEdnT4UowYCywFm/",
      "include_colab_link": true
    },
    "kernelspec": {
      "name": "python3",
      "display_name": "Python 3"
    },
    "language_info": {
      "name": "python"
    }
  },
  "cells": [
    {
      "cell_type": "markdown",
      "metadata": {
        "id": "view-in-github",
        "colab_type": "text"
      },
      "source": [
        "<a href=\"https://colab.research.google.com/github/Augustus2001/Datascience/blob/main/Monkeypox.ipynb\" target=\"_parent\"><img src=\"https://colab.research.google.com/assets/colab-badge.svg\" alt=\"Open In Colab\"/></a>"
      ]
    },
    {
      "cell_type": "code",
      "execution_count": 20,
      "metadata": {
        "colab": {
          "base_uri": "https://localhost:8080/"
        },
        "id": "N_usr60ljpUT",
        "outputId": "9a5bcebf-dfd5-4c8d-fda4-196e038e2dbb"
      },
      "outputs": [
        {
          "output_type": "stream",
          "name": "stdout",
          "text": [
            "2.8.2\n"
          ]
        }
      ],
      "source": [
        "import tensorflow as tf\n",
        "import os\n",
        "import zipfile\n",
        "from google.colab import files\n",
        "from google.colab import drive\n",
        "from tensorflow.keras.preprocessing.image import ImageDataGenerator\n",
        "print(tf.__version__)\n",
        "import matplotlib.pyplot as plt\n",
        "import seaborn as sns"
      ]
    },
    {
      "cell_type": "code",
      "source": [
        "tf.random.set_seed(72)"
      ],
      "metadata": {
        "id": "yLd-q8HtkebH"
      },
      "execution_count": 2,
      "outputs": []
    },
    {
      "cell_type": "code",
      "source": [
        "drive.mount('/content/drive/')\n",
        "zip_ref = zipfile.ZipFile(\"/content/drive/My Drive/monkeypox.zip\", 'r')\n",
        "zip_ref.extractall(\"/tmp\")\n",
        "zip_ref.close()"
      ],
      "metadata": {
        "colab": {
          "base_uri": "https://localhost:8080/"
        },
        "id": "N1sdmfp1kkzx",
        "outputId": "04d72fb9-7666-4b00-8760-6d4986635e01"
      },
      "execution_count": 4,
      "outputs": [
        {
          "output_type": "stream",
          "name": "stdout",
          "text": [
            "Mounted at /content/drive/\n"
          ]
        }
      ]
    },
    {
      "cell_type": "code",
      "source": [
        "train=os.path.join(\"/tmp/Fold1/Fold1/Fold1/Train\")\n",
        "list_train=os.listdir(train)\n",
        "test=os.path.join(\"/tmp/Fold1/Fold1/Fold1/Test\")\n",
        "list_test=os.listdir(test)\n",
        "len(list_train),len(list_test)"
      ],
      "metadata": {
        "colab": {
          "base_uri": "https://localhost:8080/"
        },
        "id": "kWH_yjtUsQk0",
        "outputId": "c45f6f0e-bd65-4b8a-b73e-95a427786b3a"
      },
      "execution_count": 11,
      "outputs": [
        {
          "output_type": "execute_result",
          "data": {
            "text/plain": [
              "(2, 2)"
            ]
          },
          "metadata": {},
          "execution_count": 11
        }
      ]
    },
    {
      "cell_type": "code",
      "source": [
        "train_datagen=ImageDataGenerator(rescale=1./255,\n",
        "                                    rotation_range=20,\n",
        "                                    width_shift_range=0.2,\n",
        "                                    height_shift_range=0.2,\n",
        "                                    shear_range=0.2,\n",
        "                                    zoom_range=0.2,\n",
        "                                    horizontal_flip=False,\n",
        "                                    )\n",
        "train_ganerator=train_datagen.flow_from_directory(directory=\"/tmp/Fold1/Fold1/Fold1/Train\",target_size=(150,150)\n",
        "                                                  ,class_mode=\"binary\"\n",
        "                                                  ,batch_size=64\n",
        "                                                  ,shuffle=True\n",
        ")\n",
        "test_datagen=ImageDataGenerator()\n",
        "test_generator=test_datagen.flow_from_directory(directory=\"/tmp/Fold1/Fold1/Fold1/Val\",\n",
        "                                                target_size=(150,150),\n",
        "                                                class_mode=\"binary\",\n",
        "                                                )"
      ],
      "metadata": {
        "id": "kJjW3VPfnIcf",
        "outputId": "ebeae5c8-d37e-4ca5-9d00-44be2f3318c3",
        "colab": {
          "base_uri": "https://localhost:8080/"
        }
      },
      "execution_count": 50,
      "outputs": [
        {
          "output_type": "stream",
          "name": "stdout",
          "text": [
            "Found 2142 images belonging to 2 classes.\n",
            "Found 420 images belonging to 2 classes.\n"
          ]
        }
      ]
    },
    {
      "cell_type": "code",
      "source": [
        "\n",
        "model=tf.keras.Sequential([\n",
        "    tf.keras.layers.Conv2D(32,(3,3),activation=\"relu\",input_shape=(150,150,3)),\n",
        "    tf.keras.layers.MaxPooling2D(2,2),\n",
        "    \n",
        "    tf.keras.layers.Conv2D(64,(3,3),activation=\"relu\"),\n",
        "    tf.keras.layers.MaxPooling2D(2,2),\n",
        "    \n",
        "    tf.keras.layers.Conv2D(64,(3,3),activation=\"relu\"),\n",
        "    tf.keras.layers.MaxPooling2D(2,2),\n",
        "    tf.keras.layers.Conv2D(128,(3,3),activation=\"relu\"),\n",
        "    tf.keras.layers.MaxPooling2D(2,2),\n",
        "    tf.keras.layers.Dropout(0.1),\n",
        "    tf.keras.layers.Flatten(),\n",
        "    tf.keras.layers.Dense(512,activation=\"relu\"),\n",
        "    tf.keras.layers.Dense(1,activation=\"sigmoid\")\n",
        "])"
      ],
      "metadata": {
        "id": "mEJT-gTHn8yd"
      },
      "execution_count": 40,
      "outputs": []
    },
    {
      "cell_type": "code",
      "source": [
        "model.summary()"
      ],
      "metadata": {
        "colab": {
          "base_uri": "https://localhost:8080/"
        },
        "id": "N-GE7nmqr7wa",
        "outputId": "3d7d7c16-d388-4d69-af31-49f02862dcf1"
      },
      "execution_count": 41,
      "outputs": [
        {
          "output_type": "stream",
          "name": "stdout",
          "text": [
            "Model: \"sequential_3\"\n",
            "_________________________________________________________________\n",
            " Layer (type)                Output Shape              Param #   \n",
            "=================================================================\n",
            " conv2d_12 (Conv2D)          (None, 148, 148, 32)      896       \n",
            "                                                                 \n",
            " max_pooling2d_12 (MaxPoolin  (None, 74, 74, 32)       0         \n",
            " g2D)                                                            \n",
            "                                                                 \n",
            " conv2d_13 (Conv2D)          (None, 72, 72, 64)        18496     \n",
            "                                                                 \n",
            " max_pooling2d_13 (MaxPoolin  (None, 36, 36, 64)       0         \n",
            " g2D)                                                            \n",
            "                                                                 \n",
            " conv2d_14 (Conv2D)          (None, 34, 34, 64)        36928     \n",
            "                                                                 \n",
            " max_pooling2d_14 (MaxPoolin  (None, 17, 17, 64)       0         \n",
            " g2D)                                                            \n",
            "                                                                 \n",
            " conv2d_15 (Conv2D)          (None, 15, 15, 128)       73856     \n",
            "                                                                 \n",
            " max_pooling2d_15 (MaxPoolin  (None, 7, 7, 128)        0         \n",
            " g2D)                                                            \n",
            "                                                                 \n",
            " dropout_6 (Dropout)         (None, 7, 7, 128)         0         \n",
            "                                                                 \n",
            " flatten_3 (Flatten)         (None, 6272)              0         \n",
            "                                                                 \n",
            " dense_6 (Dense)             (None, 512)               3211776   \n",
            "                                                                 \n",
            " dense_7 (Dense)             (None, 1)                 513       \n",
            "                                                                 \n",
            "=================================================================\n",
            "Total params: 3,342,465\n",
            "Trainable params: 3,342,465\n",
            "Non-trainable params: 0\n",
            "_________________________________________________________________\n"
          ]
        }
      ]
    },
    {
      "cell_type": "code",
      "source": [
        "model.compile(optimizer=tf.keras.optimizers.RMSprop(learning_rate=0.001),\n",
        "              loss='binary_crossentropy',\n",
        "              metrics=['accuracy'])"
      ],
      "metadata": {
        "id": "Fz55NJVlqM6C"
      },
      "execution_count": 42,
      "outputs": []
    },
    {
      "cell_type": "code",
      "source": [
        "class Mycallback(tf.keras.callbacks.Callback):\n",
        "  def on_epoch_end(self,epoch,logs={}):\n",
        "    if(logs.get(\"accuracy\")>0.85):\n",
        "      self.model.stop_training=True\n",
        "callbacks=Mycallback()"
      ],
      "metadata": {
        "id": "TlmBbeDjDQmG"
      },
      "execution_count": 43,
      "outputs": []
    },
    {
      "cell_type": "code",
      "source": [
        "history=model.fit(train_ganerator,epochs=40)"
      ],
      "metadata": {
        "colab": {
          "base_uri": "https://localhost:8080/"
        },
        "id": "UIRO3ggxqrmC",
        "outputId": "5d253e9b-9644-4914-e08e-b08ff870282e"
      },
      "execution_count": 44,
      "outputs": [
        {
          "output_type": "stream",
          "name": "stdout",
          "text": [
            "Epoch 1/40\n",
            "34/34 [==============================] - 90s 3s/step - loss: 1.0298 - accuracy: 0.5579\n",
            "Epoch 2/40\n",
            "34/34 [==============================] - 87s 3s/step - loss: 0.6831 - accuracy: 0.5551\n",
            "Epoch 3/40\n",
            "34/34 [==============================] - 87s 3s/step - loss: 0.7198 - accuracy: 0.5570\n",
            "Epoch 4/40\n",
            "34/34 [==============================] - 94s 3s/step - loss: 0.6619 - accuracy: 0.6134\n",
            "Epoch 5/40\n",
            "34/34 [==============================] - 88s 3s/step - loss: 0.6846 - accuracy: 0.6069\n",
            "Epoch 6/40\n",
            "34/34 [==============================] - 92s 3s/step - loss: 0.6442 - accuracy: 0.6373\n",
            "Epoch 7/40\n",
            "34/34 [==============================] - 87s 3s/step - loss: 0.6463 - accuracy: 0.6485\n",
            "Epoch 8/40\n",
            "34/34 [==============================] - 87s 3s/step - loss: 0.6478 - accuracy: 0.6373\n",
            "Epoch 9/40\n",
            "34/34 [==============================] - 91s 3s/step - loss: 0.6316 - accuracy: 0.6480\n",
            "Epoch 10/40\n",
            "34/34 [==============================] - 93s 3s/step - loss: 0.6064 - accuracy: 0.6639\n",
            "Epoch 11/40\n",
            "34/34 [==============================] - 88s 3s/step - loss: 0.6091 - accuracy: 0.6788\n",
            "Epoch 12/40\n",
            "34/34 [==============================] - 92s 3s/step - loss: 0.6057 - accuracy: 0.6755\n",
            "Epoch 13/40\n",
            "34/34 [==============================] - 88s 3s/step - loss: 0.5981 - accuracy: 0.6891\n",
            "Epoch 14/40\n",
            "34/34 [==============================] - 88s 3s/step - loss: 0.5604 - accuracy: 0.7068\n",
            "Epoch 15/40\n",
            "34/34 [==============================] - 92s 3s/step - loss: 0.5718 - accuracy: 0.7115\n",
            "Epoch 16/40\n",
            "34/34 [==============================] - 88s 3s/step - loss: 0.5452 - accuracy: 0.7124\n",
            "Epoch 17/40\n",
            "34/34 [==============================] - 92s 3s/step - loss: 0.5296 - accuracy: 0.7367\n",
            "Epoch 18/40\n",
            "34/34 [==============================] - 88s 3s/step - loss: 0.5236 - accuracy: 0.7353\n",
            "Epoch 19/40\n",
            "34/34 [==============================] - 92s 3s/step - loss: 0.5011 - accuracy: 0.7535\n",
            "Epoch 20/40\n",
            "34/34 [==============================] - 88s 3s/step - loss: 0.4995 - accuracy: 0.7479\n",
            "Epoch 21/40\n",
            "34/34 [==============================] - 92s 3s/step - loss: 0.4634 - accuracy: 0.7717\n",
            "Epoch 22/40\n",
            "34/34 [==============================] - 88s 3s/step - loss: 0.4781 - accuracy: 0.7684\n",
            "Epoch 23/40\n",
            "34/34 [==============================] - 92s 3s/step - loss: 0.4723 - accuracy: 0.7726\n",
            "Epoch 24/40\n",
            "34/34 [==============================] - 88s 3s/step - loss: 0.4331 - accuracy: 0.7965\n",
            "Epoch 25/40\n",
            "34/34 [==============================] - 92s 3s/step - loss: 0.4373 - accuracy: 0.7890\n",
            "Epoch 26/40\n",
            "34/34 [==============================] - 89s 3s/step - loss: 0.4134 - accuracy: 0.8081\n",
            "Epoch 27/40\n",
            "34/34 [==============================] - 88s 3s/step - loss: 0.4213 - accuracy: 0.8002\n",
            "Epoch 28/40\n",
            "34/34 [==============================] - 93s 3s/step - loss: 0.3763 - accuracy: 0.8394\n",
            "Epoch 29/40\n",
            "34/34 [==============================] - 88s 3s/step - loss: 0.3765 - accuracy: 0.8371\n",
            "Epoch 30/40\n",
            "34/34 [==============================] - 92s 3s/step - loss: 0.3531 - accuracy: 0.8399\n",
            "Epoch 31/40\n",
            "34/34 [==============================] - 88s 3s/step - loss: 0.3617 - accuracy: 0.8394\n",
            "Epoch 32/40\n",
            "34/34 [==============================] - 92s 3s/step - loss: 0.3366 - accuracy: 0.8604\n",
            "Epoch 33/40\n",
            "34/34 [==============================] - 88s 3s/step - loss: 0.3274 - accuracy: 0.8641\n",
            "Epoch 34/40\n",
            "34/34 [==============================] - 91s 3s/step - loss: 0.3279 - accuracy: 0.8604\n",
            "Epoch 35/40\n",
            "34/34 [==============================] - 88s 3s/step - loss: 0.3141 - accuracy: 0.8651\n",
            "Epoch 36/40\n",
            "34/34 [==============================] - 93s 3s/step - loss: 0.3000 - accuracy: 0.8786\n",
            "Epoch 37/40\n",
            "34/34 [==============================] - 88s 3s/step - loss: 0.2967 - accuracy: 0.8772\n",
            "Epoch 38/40\n",
            "34/34 [==============================] - 93s 3s/step - loss: 0.2945 - accuracy: 0.8697\n",
            "Epoch 39/40\n",
            "34/34 [==============================] - 92s 3s/step - loss: 0.2793 - accuracy: 0.8842\n",
            "Epoch 40/40\n",
            "34/34 [==============================] - 93s 3s/step - loss: 0.2729 - accuracy: 0.8833\n"
          ]
        }
      ]
    },
    {
      "cell_type": "code",
      "source": [
        "def render_training_history(training_history):\n",
        "    loss = training_history.history['loss']\n",
        "    val_loss = training_history.history['val_loss']\n",
        "\n",
        "    accuracy = training_history.history['accuracy']\n",
        "    val_accuracy = training_history.history['val_accuracy']\n",
        "\n",
        "    plt.figure(figsize=(14, 4))\n",
        "\n",
        "    plt.subplot(1, 2, 1)\n",
        "    plt.title('Loss')\n",
        "    plt.xlabel('Epoch')\n",
        "    plt.ylabel('Loss')\n",
        "    plt.plot(loss, label='Training set')\n",
        "    plt.plot(val_loss, label='Test set', linestyle='--')\n",
        "    plt.legend()\n",
        "    plt.grid(linestyle='--', linewidth=1, alpha=0.5)\n",
        "\n",
        "    plt.subplot(1, 2, 2)\n",
        "    plt.title('Accuracy')\n",
        "    plt.xlabel('Epoch')\n",
        "    plt.ylabel('Accuracy')\n",
        "    plt.plot(accuracy, label='Training set')\n",
        "    plt.plot(val_accuracy, label='Test set', linestyle='--')\n",
        "    plt.legend()\n",
        "    plt.grid(linestyle='--', linewidth=1, alpha=0.5)\n",
        "\n",
        "    plt.show()"
      ],
      "metadata": {
        "id": "B2igLgGiDpYj"
      },
      "execution_count": 57,
      "outputs": []
    },
    {
      "cell_type": "code",
      "source": [
        "model.save(\"Monkeypox.h5\")"
      ],
      "metadata": {
        "id": "zcOz0XSmZvsX"
      },
      "execution_count": 56,
      "outputs": []
    },
    {
      "cell_type": "code",
      "source": [
        "render_training_history(history)"
      ],
      "metadata": {
        "id": "Vio6uocCFQTg",
        "outputId": "09f14cdc-fed4-4da5-9056-193ab872431f",
        "colab": {
          "base_uri": "https://localhost:8080/",
          "height": 287
        }
      },
      "execution_count": 59,
      "outputs": [
        {
          "output_type": "error",
          "ename": "KeyError",
          "evalue": "ignored",
          "traceback": [
            "\u001b[0;31m---------------------------------------------------------------------------\u001b[0m",
            "\u001b[0;31mKeyError\u001b[0m                                  Traceback (most recent call last)",
            "\u001b[0;32m<ipython-input-59-cc5b332975bb>\u001b[0m in \u001b[0;36m<module>\u001b[0;34m\u001b[0m\n\u001b[0;32m----> 1\u001b[0;31m \u001b[0mrender_training_history\u001b[0m\u001b[0;34m(\u001b[0m\u001b[0mhistory\u001b[0m\u001b[0;34m)\u001b[0m\u001b[0;34m\u001b[0m\u001b[0;34m\u001b[0m\u001b[0m\n\u001b[0m",
            "\u001b[0;32m<ipython-input-57-c748e62ff912>\u001b[0m in \u001b[0;36mrender_training_history\u001b[0;34m(training_history)\u001b[0m\n\u001b[1;32m      1\u001b[0m \u001b[0;32mdef\u001b[0m \u001b[0mrender_training_history\u001b[0m\u001b[0;34m(\u001b[0m\u001b[0mtraining_history\u001b[0m\u001b[0;34m)\u001b[0m\u001b[0;34m:\u001b[0m\u001b[0;34m\u001b[0m\u001b[0;34m\u001b[0m\u001b[0m\n\u001b[1;32m      2\u001b[0m     \u001b[0mloss\u001b[0m \u001b[0;34m=\u001b[0m \u001b[0mtraining_history\u001b[0m\u001b[0;34m.\u001b[0m\u001b[0mhistory\u001b[0m\u001b[0;34m[\u001b[0m\u001b[0;34m'loss'\u001b[0m\u001b[0;34m]\u001b[0m\u001b[0;34m\u001b[0m\u001b[0;34m\u001b[0m\u001b[0m\n\u001b[0;32m----> 3\u001b[0;31m     \u001b[0mval_loss\u001b[0m \u001b[0;34m=\u001b[0m \u001b[0mtraining_history\u001b[0m\u001b[0;34m.\u001b[0m\u001b[0mhistory\u001b[0m\u001b[0;34m[\u001b[0m\u001b[0;34m'val_loss'\u001b[0m\u001b[0;34m]\u001b[0m\u001b[0;34m\u001b[0m\u001b[0;34m\u001b[0m\u001b[0m\n\u001b[0m\u001b[1;32m      4\u001b[0m \u001b[0;34m\u001b[0m\u001b[0m\n\u001b[1;32m      5\u001b[0m     \u001b[0maccuracy\u001b[0m \u001b[0;34m=\u001b[0m \u001b[0mtraining_history\u001b[0m\u001b[0;34m.\u001b[0m\u001b[0mhistory\u001b[0m\u001b[0;34m[\u001b[0m\u001b[0;34m'accuracy'\u001b[0m\u001b[0;34m]\u001b[0m\u001b[0;34m\u001b[0m\u001b[0;34m\u001b[0m\u001b[0m\n",
            "\u001b[0;31mKeyError\u001b[0m: 'val_loss'"
          ]
        }
      ]
    },
    {
      "cell_type": "code",
      "source": [
        "model.evaluate(test_ganerato)"
      ],
      "metadata": {
        "id": "hmCtxyvMxXeP",
        "outputId": "088711b3-b93c-43df-fdad-d003a156dba2",
        "colab": {
          "base_uri": "https://localhost:8080/",
          "height": 165
        }
      },
      "execution_count": 55,
      "outputs": [
        {
          "output_type": "error",
          "ename": "NameError",
          "evalue": "ignored",
          "traceback": [
            "\u001b[0;31m---------------------------------------------------------------------------\u001b[0m",
            "\u001b[0;31mNameError\u001b[0m                                 Traceback (most recent call last)",
            "\u001b[0;32m<ipython-input-55-dd3cf2449740>\u001b[0m in \u001b[0;36m<module>\u001b[0;34m\u001b[0m\n\u001b[0;32m----> 1\u001b[0;31m \u001b[0mmodel\u001b[0m\u001b[0;34m.\u001b[0m\u001b[0mevaluate\u001b[0m\u001b[0;34m(\u001b[0m\u001b[0mtest_ganerato\u001b[0m\u001b[0;34m)\u001b[0m\u001b[0;34m\u001b[0m\u001b[0;34m\u001b[0m\u001b[0m\n\u001b[0m",
            "\u001b[0;31mNameError\u001b[0m: name 'test_ganerato' is not defined"
          ]
        }
      ]
    }
  ]
}